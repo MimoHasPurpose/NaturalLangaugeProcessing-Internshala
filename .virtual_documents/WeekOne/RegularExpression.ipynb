


import re



string="Tiger is the national animal of india, Tiger lives in forest"
pattern="Tiger"
result=re.match(pattern,string)


result


print(result)


result=result.group()


result




string2="The national animal of India is tiger"
pattern="tiger"
#checking for match
result=re.match(string2,pattern)


result




##String: search()
string="The national animal of india is Tiger. Tiger lives in forest."

pattern2="Tiger"

result2=re.search(pattern2,string)




print(result2)


result2=re.search(pattern2,string).group()



result2


#Find all
result3=re.findall(pattern2,string)


result3


text="India get freedom on 15-08-1947, and it is celebrated as Independence day.\
    Indian constitution came into effect on 26-01-1950, and celebrated as republic day"
#defining the pattern
date_pattern=r'\d{2}-\d{2}-\d{4}'
re.findall(date_pattern,text)


# finditer
# finall() but return an iterator
string="The national animal of India is Tiger. TIger lives in Forest."
pattern="Tiger"
#using finditer in a string
result=re.finditer(pattern,string)
print(result)


for m in result:
    print(m)
    print('Start: ',m.start(),'End: ',m.end(),'Sub-string:',m.group())


#sub
text="Analytics Vidhya is largest Analytics community of India"
result=re.sub('India','the World',text)
print(result)


#split
line="I have a big test tomorrow; I can't go out tonight."
re.split(r'[;]',line)





# Running a simple pattern on some text
string="Ajay credited $500 to your account on 13-08-2020.\
      Anmol debited $1,700 from your account on 14-08-2020.\
      Alex debited $100 on 16-08-2020 from your account."

pattern="[\w]+ [\w]+ \$[\d,]+ [a-zA-z ]+ \d{2}-\d{2}-\d{4}"

result=re.findall(pattern,string)

print(result)


string="Ajay credited $500 to your account on 13-08-2020.\
      Anmol debited $1,700 from your account on 14-08-2020.\
      Alex debited $100 on 16-08-2020 from your account."

# Creating groups in the previous pattern
pattern="([\w]+) ([\w]+) (\$[\d,]+) [a-zA-z ]+ (\d{2}-\d{2}-\d{4})"

result=re.findall(pattern,string)

print(result)


import pandas as pd

# Creating a dataframe
df=pd.DataFrame(result,columns=['Name','Type','Amount','Date'])
df


# Using finditer() for getting match objects
string="Ajay credited $500 to your account on 13-08-2020.\
      Anmol debited $1,700 from your account on 14-08-2020.\
      Alex debited $100 on 16-08-2020 from your account."

pattern="([\w]+) ([\w]+) (\$[\d,]+) [a-zA-z ]+ (\d{2}-\d{2}-\d{4})"

result=re.finditer(pattern,string)

# Accessing groups separately
for i in result:
    print(i.group(0),'=>',i.group(1),'=>',i.group(2),'=>',i.group(3),'=>',i.group(4))


string="Ajay credited $500 to your account on 13-08-2020.\
      Anmol debited $1,700 from your account on 14-08-2020.\
      Alex debited $100 on 16-08-2020 from your account."

# Naming Groups
pattern="(?P<Name>[\w]+) (?P<Type>[\w]+) (?P<Amount>\$[\d,]+) [a-zA-z ]+ (?P<Date>\d{2}-\d{2}-\d{4})"

result=list(re.finditer(pattern,string))


# Accessing data by group names
for i in result:
    print(i.group('Name'),'=>',i.group('Amount'),'=>',i.group('Date'),'=>',i.group('Type'))


# Printing data with group names
for i in result:
    print(i.groupdict())










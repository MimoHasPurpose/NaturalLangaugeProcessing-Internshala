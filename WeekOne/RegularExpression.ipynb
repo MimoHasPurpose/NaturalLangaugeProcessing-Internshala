{
 "cells": [
  {
   "cell_type": "raw",
   "id": "3c0f5d92-b322-4db7-bd67-a717a646a208",
   "metadata": {},
   "source": [
    "##Regular Expression in Python\n",
    "#match\n",
    "#search\n",
    "#findall\n",
    "#finditer\n",
    "#sub\n",
    "#split\n",
    "groups"
   ]
  },
  {
   "cell_type": "code",
   "execution_count": 1,
   "id": "2cd2a67f-e689-4aee-8886-b8a2d2d49729",
   "metadata": {},
   "outputs": [],
   "source": [
    "import re\n"
   ]
  },
  {
   "cell_type": "code",
   "execution_count": 3,
   "id": "0fa036ba-a1a7-4291-8d84-f7c09be9501c",
   "metadata": {},
   "outputs": [],
   "source": [
    "string=\"Tiger is the national animal of india, Tiger lives in forest\"\n",
    "pattern=\"Tiger\"\n",
    "result=re.match(pattern,string)"
   ]
  },
  {
   "cell_type": "code",
   "execution_count": 4,
   "id": "96cfda00-99dd-4a1e-9aa1-5d14b079ad9e",
   "metadata": {},
   "outputs": [
    {
     "data": {
      "text/plain": [
       "<re.Match object; span=(0, 5), match='Tiger'>"
      ]
     },
     "execution_count": 4,
     "metadata": {},
     "output_type": "execute_result"
    }
   ],
   "source": [
    "result"
   ]
  },
  {
   "cell_type": "code",
   "execution_count": 5,
   "id": "6342c214-8b6b-4ddb-a783-8fca4f774c3d",
   "metadata": {},
   "outputs": [
    {
     "name": "stdout",
     "output_type": "stream",
     "text": [
      "<re.Match object; span=(0, 5), match='Tiger'>\n"
     ]
    }
   ],
   "source": [
    "print(result)"
   ]
  },
  {
   "cell_type": "code",
   "execution_count": 6,
   "id": "895375c9-eb30-48ae-ab98-94780bcb7337",
   "metadata": {},
   "outputs": [],
   "source": [
    "result=result.group()"
   ]
  },
  {
   "cell_type": "code",
   "execution_count": 7,
   "id": "b4ad4400-b48b-4d18-97c0-e77ca6dafe4b",
   "metadata": {},
   "outputs": [
    {
     "data": {
      "text/plain": [
       "'Tiger'"
      ]
     },
     "execution_count": 7,
     "metadata": {},
     "output_type": "execute_result"
    }
   ],
   "source": [
    "result\n"
   ]
  },
  {
   "cell_type": "code",
   "execution_count": 8,
   "id": "80809a65-2950-4bf3-94e4-97120ed216f4",
   "metadata": {},
   "outputs": [],
   "source": [
    "\n",
    "string2=\"The national animal of India is tiger\"\n",
    "pattern=\"tiger\"\n",
    "#checking for match\n",
    "result=re.match(string2,pattern)"
   ]
  },
  {
   "cell_type": "code",
   "execution_count": 9,
   "id": "cafd0f7d-7f2b-4865-b072-09f9bd891558",
   "metadata": {},
   "outputs": [],
   "source": [
    "result\n"
   ]
  },
  {
   "cell_type": "code",
   "execution_count": 15,
   "id": "44c14329-dd99-4b17-85ad-3a1030bef0e5",
   "metadata": {},
   "outputs": [],
   "source": [
    "\n",
    "##String: search()\n",
    "string=\"The national animal of india is Tiger. Tiger lives in forest.\"\n",
    "\n",
    "pattern2=\"Tiger\"\n",
    "\n",
    "result2=re.search(pattern2,string)\n",
    "\n"
   ]
  },
  {
   "cell_type": "code",
   "execution_count": 16,
   "id": "1f443cf3-1731-4b0a-ad30-5463cbb88df9",
   "metadata": {},
   "outputs": [
    {
     "name": "stdout",
     "output_type": "stream",
     "text": [
      "<re.Match object; span=(32, 37), match='Tiger'>\n"
     ]
    }
   ],
   "source": [
    "print(result2)"
   ]
  },
  {
   "cell_type": "code",
   "execution_count": 19,
   "id": "ddb7c79c-50e2-45de-8314-ff510f973762",
   "metadata": {},
   "outputs": [],
   "source": [
    "result2=re.search(pattern2,string).group()"
   ]
  },
  {
   "cell_type": "code",
   "execution_count": 20,
   "id": "2d7ac703-a8f5-41c6-83c2-72bb881e59b3",
   "metadata": {},
   "outputs": [
    {
     "data": {
      "text/plain": [
       "'Tiger'"
      ]
     },
     "execution_count": 20,
     "metadata": {},
     "output_type": "execute_result"
    }
   ],
   "source": [
    "\n",
    "result2"
   ]
  },
  {
   "cell_type": "code",
   "execution_count": 21,
   "id": "c1cf924f-bbfc-467a-a0c9-ef6fe4c27bf6",
   "metadata": {},
   "outputs": [],
   "source": [
    "#Find all\n",
    "result3=re.findall(pattern2,string)"
   ]
  },
  {
   "cell_type": "code",
   "execution_count": 22,
   "id": "7e365e29-e132-4c89-8ed2-3b87b05fa8b9",
   "metadata": {},
   "outputs": [
    {
     "data": {
      "text/plain": [
       "['Tiger', 'Tiger']"
      ]
     },
     "execution_count": 22,
     "metadata": {},
     "output_type": "execute_result"
    }
   ],
   "source": [
    "result3"
   ]
  },
  {
   "cell_type": "code",
   "execution_count": 3,
   "id": "86cf1d25-d266-4f86-97ca-f8a2d6bce4be",
   "metadata": {},
   "outputs": [],
   "source": [
    "text=\"India get freedom on 15-08-1947, and it is celebrated as Independence day.\\\n",
    "    Indian constitution came into effect on 26-01-1950, and celebrated as republic day\"\n",
    "#defining the pattern\n",
    "date_pattern=r'\\d{2}-\\d{2}-\\d{4}'"
   ]
  },
  {
   "cell_type": "code",
   "execution_count": null,
   "id": "93524f9c-45ec-4b89-87c9-5206f9d2fe36",
   "metadata": {},
   "outputs": [],
   "source": []
  }
 ],
 "metadata": {
  "kernelspec": {
   "display_name": "Python 3 (ipykernel)",
   "language": "python",
   "name": "python3"
  },
  "language_info": {
   "codemirror_mode": {
    "name": "ipython",
    "version": 3
   },
   "file_extension": ".py",
   "mimetype": "text/x-python",
   "name": "python",
   "nbconvert_exporter": "python",
   "pygments_lexer": "ipython3",
   "version": "3.11.7"
  }
 },
 "nbformat": 4,
 "nbformat_minor": 5
}

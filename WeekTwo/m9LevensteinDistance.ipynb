{
  "nbformat": 4,
  "nbformat_minor": 0,
  "metadata": {
    "colab": {
      "provenance": []
    },
    "kernelspec": {
      "name": "python3",
      "display_name": "Python 3"
    },
    "language_info": {
      "name": "python"
    }
  },
  "cells": [
    {
      "cell_type": "code",
      "execution_count": 4,
      "metadata": {
        "id": "68c-1BeTZ9J1"
      },
      "outputs": [],
      "source": [
        "#importing lib\n",
        "import numpy as np"
      ]
    },
    {
      "cell_type": "code",
      "source": [
        "seq1='mimo'\n",
        "seq2='mimo'\n"
      ],
      "metadata": {
        "id": "Sazfjx5pbYf1"
      },
      "execution_count": 24,
      "outputs": []
    },
    {
      "cell_type": "code",
      "source": [
        "# size of matrix\n",
        "size_x=len(seq1)+1\n",
        "size_y=len(seq2)+1\n",
        "# Creating a matrix with all zeros\n",
        "matrix=np.zeros((size_x,size_y))\n",
        "matrix"
      ],
      "metadata": {
        "colab": {
          "base_uri": "https://localhost:8080/"
        },
        "id": "T1NzP_n4bYyO",
        "outputId": "840e31de-030c-4f7e-a5ef-23fba327a208"
      },
      "execution_count": 25,
      "outputs": [
        {
          "output_type": "execute_result",
          "data": {
            "text/plain": [
              "array([[0., 0., 0., 0., 0.],\n",
              "       [0., 0., 0., 0., 0.],\n",
              "       [0., 0., 0., 0., 0.],\n",
              "       [0., 0., 0., 0., 0.],\n",
              "       [0., 0., 0., 0., 0.]])"
            ]
          },
          "metadata": {},
          "execution_count": 25
        }
      ]
    },
    {
      "cell_type": "code",
      "source": [
        "# filling the first column of the matrix with the index of chracters from first string\n",
        "for x in range(size_x):\n",
        "  matrix[x,0]=x\n",
        "for y in range(size_y):\n",
        "  matrix[0,y]=y\n",
        "matrix"
      ],
      "metadata": {
        "colab": {
          "base_uri": "https://localhost:8080/"
        },
        "id": "JBIzmUo5bY-c",
        "outputId": "a871f410-f299-414a-d193-fb7f6693e2c5"
      },
      "execution_count": 26,
      "outputs": [
        {
          "output_type": "execute_result",
          "data": {
            "text/plain": [
              "array([[0., 1., 2., 3., 4.],\n",
              "       [1., 0., 0., 0., 0.],\n",
              "       [2., 0., 0., 0., 0.],\n",
              "       [3., 0., 0., 0., 0.],\n",
              "       [4., 0., 0., 0., 0.]])"
            ]
          },
          "metadata": {},
          "execution_count": 26
        }
      ]
    },
    {
      "cell_type": "code",
      "source": [
        "#for each column\n",
        "for x in range(1,size_x):\n",
        "  for y in range(1,size_y):\n",
        "    if seq1[x-1]==seq2[y-1]:\n",
        "      matrix[x,y]=min(\n",
        "          matrix[x-1,y],\n",
        "          matrix[x-1,y-1]+1,\n",
        "          matrix[x,y-1]+1\n",
        "      )\n",
        "    else:\n",
        "      matrix[x,y]=min(\n",
        "          matrix[x-1,y]+1,\n",
        "          matrix[x-1,y-1]+1,\n",
        "          matrix[x,y-1]+1\n",
        "      )\n"
      ],
      "metadata": {
        "id": "PKN3e2ysbZGB"
      },
      "execution_count": 27,
      "outputs": []
    },
    {
      "cell_type": "code",
      "source": [
        "matrix"
      ],
      "metadata": {
        "colab": {
          "base_uri": "https://localhost:8080/"
        },
        "id": "vRq9Ej5afGgj",
        "outputId": "46177cd2-bca9-4030-bf5d-a52593631418"
      },
      "execution_count": 28,
      "outputs": [
        {
          "output_type": "execute_result",
          "data": {
            "text/plain": [
              "array([[0., 1., 2., 3., 4.],\n",
              "       [1., 1., 2., 3., 4.],\n",
              "       [2., 2., 2., 3., 4.],\n",
              "       [3., 2., 3., 3., 4.],\n",
              "       [4., 3., 3., 4., 4.]])"
            ]
          },
          "metadata": {},
          "execution_count": 28
        }
      ]
    },
    {
      "cell_type": "code",
      "source": [],
      "metadata": {
        "id": "Lx539lSxbZNf"
      },
      "execution_count": null,
      "outputs": []
    },
    {
      "cell_type": "code",
      "source": [],
      "metadata": {
        "id": "90CfAa7NbZUn"
      },
      "execution_count": null,
      "outputs": []
    },
    {
      "cell_type": "code",
      "source": [],
      "metadata": {
        "id": "czOM8GRabZci"
      },
      "execution_count": null,
      "outputs": []
    }
  ]
}
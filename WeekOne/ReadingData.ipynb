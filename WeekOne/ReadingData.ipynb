{
 "cells": [
  {
   "cell_type": "code",
   "execution_count": 1,
   "id": "0bcb7f27-ed2c-41d7-bea6-69ca0d6c177d",
   "metadata": {},
   "outputs": [],
   "source": [
    "import pandas as pd"
   ]
  },
  {
   "cell_type": "code",
   "execution_count": 4,
   "id": "8c446a95-059b-4cc0-8c9e-6a585fa43b6c",
   "metadata": {},
   "outputs": [],
   "source": [
    "#Reading data from a csv file using read_csv()\n",
    "reviews=pd.read_csv('textdata/reviews.csv')"
   ]
  },
  {
   "cell_type": "code",
   "execution_count": 6,
   "id": "4a97b745-2282-4ac2-b89d-b73de2890979",
   "metadata": {},
   "outputs": [
    {
     "data": {
      "text/plain": [
       "0        I'm scared and hearing creepy voices.  So I'll...\n",
       "1        Best game, more better than Sam Pepper's YouTu...\n",
       "2        A littly iffy on the controls, but once you kn...\n",
       "3        Great game, fun and colorful and all that.A si...\n",
       "4        Not many games have the cute tag right next to...\n",
       "                               ...                        \n",
       "17489    Arguably the single greatest mmorp that exists...\n",
       "17490    An older game, to be sure, but has its own cha...\n",
       "17491    When I frist started playing Everquest 2 it wa...\n",
       "17492    cool game. THe only thing that REALLY PISSES M...\n",
       "17493    this game since I was a little kid, always hav...\n",
       "Name: user_review, Length: 17494, dtype: object"
      ]
     },
     "execution_count": 6,
     "metadata": {},
     "output_type": "execute_result"
    }
   ],
   "source": [
    "reviews['user_review']"
   ]
  },
  {
   "cell_type": "code",
   "execution_count": 7,
   "id": "eb6116d5-3ac2-468f-abfb-f31ceec586b3",
   "metadata": {},
   "outputs": [
    {
     "name": "stdout",
     "output_type": "stream",
     "text": [
      "Shape=> (17494, 5)\n"
     ]
    }
   ],
   "source": [
    "#Printing shape of dataframe\n",
    "print('Shape=>',reviews.shape)"
   ]
  },
  {
   "cell_type": "code",
   "execution_count": 8,
   "id": "247afa11-da2c-4d00-b87b-fa369a507530",
   "metadata": {},
   "outputs": [
    {
     "data": {
      "text/html": [
       "<div>\n",
       "<style scoped>\n",
       "    .dataframe tbody tr th:only-of-type {\n",
       "        vertical-align: middle;\n",
       "    }\n",
       "\n",
       "    .dataframe tbody tr th {\n",
       "        vertical-align: top;\n",
       "    }\n",
       "\n",
       "    .dataframe thead th {\n",
       "        text-align: right;\n",
       "    }\n",
       "</style>\n",
       "<table border=\"1\" class=\"dataframe\">\n",
       "  <thead>\n",
       "    <tr style=\"text-align: right;\">\n",
       "      <th></th>\n",
       "      <th>review_id</th>\n",
       "      <th>title</th>\n",
       "      <th>year</th>\n",
       "      <th>user_review</th>\n",
       "      <th>user_suggestion</th>\n",
       "    </tr>\n",
       "  </thead>\n",
       "  <tbody>\n",
       "    <tr>\n",
       "      <th>0</th>\n",
       "      <td>1</td>\n",
       "      <td>Spooky's Jump Scare Mansion</td>\n",
       "      <td>2016.0</td>\n",
       "      <td>I'm scared and hearing creepy voices.  So I'll...</td>\n",
       "      <td>1</td>\n",
       "    </tr>\n",
       "    <tr>\n",
       "      <th>1</th>\n",
       "      <td>2</td>\n",
       "      <td>Spooky's Jump Scare Mansion</td>\n",
       "      <td>2016.0</td>\n",
       "      <td>Best game, more better than Sam Pepper's YouTu...</td>\n",
       "      <td>1</td>\n",
       "    </tr>\n",
       "    <tr>\n",
       "      <th>2</th>\n",
       "      <td>3</td>\n",
       "      <td>Spooky's Jump Scare Mansion</td>\n",
       "      <td>2016.0</td>\n",
       "      <td>A littly iffy on the controls, but once you kn...</td>\n",
       "      <td>1</td>\n",
       "    </tr>\n",
       "    <tr>\n",
       "      <th>3</th>\n",
       "      <td>4</td>\n",
       "      <td>Spooky's Jump Scare Mansion</td>\n",
       "      <td>2015.0</td>\n",
       "      <td>Great game, fun and colorful and all that.A si...</td>\n",
       "      <td>1</td>\n",
       "    </tr>\n",
       "    <tr>\n",
       "      <th>4</th>\n",
       "      <td>5</td>\n",
       "      <td>Spooky's Jump Scare Mansion</td>\n",
       "      <td>2015.0</td>\n",
       "      <td>Not many games have the cute tag right next to...</td>\n",
       "      <td>1</td>\n",
       "    </tr>\n",
       "  </tbody>\n",
       "</table>\n",
       "</div>"
      ],
      "text/plain": [
       "   review_id                        title    year  \\\n",
       "0          1  Spooky's Jump Scare Mansion  2016.0   \n",
       "1          2  Spooky's Jump Scare Mansion  2016.0   \n",
       "2          3  Spooky's Jump Scare Mansion  2016.0   \n",
       "3          4  Spooky's Jump Scare Mansion  2015.0   \n",
       "4          5  Spooky's Jump Scare Mansion  2015.0   \n",
       "\n",
       "                                         user_review  user_suggestion  \n",
       "0  I'm scared and hearing creepy voices.  So I'll...                1  \n",
       "1  Best game, more better than Sam Pepper's YouTu...                1  \n",
       "2  A littly iffy on the controls, but once you kn...                1  \n",
       "3  Great game, fun and colorful and all that.A si...                1  \n",
       "4  Not many games have the cute tag right next to...                1  "
      ]
     },
     "execution_count": 8,
     "metadata": {},
     "output_type": "execute_result"
    }
   ],
   "source": [
    "#printing first 5 \n",
    "reviews.head()"
   ]
  },
  {
   "cell_type": "code",
   "execution_count": 10,
   "id": "87b96d82-39fc-4d04-a951-e139f58a4ea4",
   "metadata": {},
   "outputs": [],
   "source": [
    "# Reading text file in read mode as a file object using open()\n",
    "file=open('textdata/data.txt',mode='r',encoding='utf-8')"
   ]
  },
  {
   "cell_type": "code",
   "execution_count": 11,
   "id": "5897c387-643d-44a1-960b-419f677d7532",
   "metadata": {},
   "outputs": [],
   "source": [
    "text=file.read()"
   ]
  },
  {
   "cell_type": "code",
   "execution_count": 12,
   "id": "dacb11ba-2cd9-4776-b74f-a0949eb840db",
   "metadata": {},
   "outputs": [],
   "source": [
    "file.close()"
   ]
  },
  {
   "cell_type": "code",
   "execution_count": 13,
   "id": "9c3d4128-46ad-461d-a3ad-e28dff9726ce",
   "metadata": {},
   "outputs": [
    {
     "name": "stdout",
     "output_type": "stream",
     "text": [
      "Sammo Hung's 1989 film Pedicab Driver is considered by many to be his masterpiece. I have to agree to some extent as the film in its greatest parts really gets as incredible and fantastic as any Hong Kong film ever has. It is a combination of pretty good and well written drama, interesting and sympathetic (and also non-sympathetic) characters, some genuinely funny humor and truly over-the-top hyper kung fu that is guaranteed to make many jaws drop when someone not familiar with Hong Kong cinema watches the film as well as it does to the experienced enthusiasts of the unique industry.\n",
      "\n",
      "<br /><br />\n",
      "\n",
      "Sammo and Max Mok Siu Chung play two pedicab drivers who live in Hong Kong in the middle part of the last century, I think. They drive their cabs and are also desperate for love. Sammo is interested in local baker girl Ping (Nina Li Chi) while Max one day meets a mysterious and beautiful Fennie Yuen Kit-Ying he falls madly in love with. Many other characters get introduced, too, and they remain pretty clear all the time if the viewer really concentrates on the film and its plot so I cannot say the film is confusing as it could be much worse especially in Hong Kong! Soon we get to know, for instance, that a ruthless gangster family is terrorizing the neighborhood and of course their violent acts affect our protagonists, too, and so the premise for some of the most incredibly choreographed kung fu fight sequences has been created. As well as some nice drama.\n",
      "\n",
      "<br /><br />\n",
      "\n",
      "The film has a great cast. The leads are all very good and restrained (not as painfully awful over-acting and \"humor\" as in Sammo's otherwise great Eastern Condors (1987), for example) and they are also, thanks to the carefully written screenplay, pretty likable and easy to identify with. The cast includes many familiar HK cinema faces and directors in small roles like Corey Yuen Kwai (the legendary action director and director of films like Saviour of the Soul 1 and 2, Ninja in the Dragon's Den and Fong Sai Yuk 1 and 2), the masterful composer Lowell Lo Koon-Ting (John Woo's The Killer and Ringo Lam's School on Fire and Prison on Fire among many others, Pedicab Driver included!), the Shaw veteran Liu Chia Liang (whom with Sammo has a furious fight with sticks), Alfred Cheung Kin-Ting (the director of dark HK noir classic On the Run from 1988), the late great Lam Ching Ying (best known for his friendly face in various HK vampire horror/kung fu/comedies) to name just a few. In fact, the cast in Pedicab Driver is one of the most interesting I've seen in any other HK production.\n",
      "\n",
      "<br /><br />\n",
      "\n",
      "The film has some interesting peaceful moments most notably about the love affair between Max Mok and Fennie Yuen and one crisis they confront thanks to Lowell Lo's character. They really could have done this a completely serious piece if they had wanted as the discussions about human values and meaning of love, no matter what's your past or what you've done for living, get so serious and genuinely effective at the middle part that the film immediately gets much more noteworthy than our average kung fu spectacle actioner. Also the other characters' efforts to cure things is very touching and tells delightfully much about right human relations and friendship, and of course love. Still I think what Fennie says to Max (about the future \"bad cooking\") is very unnecessary and tones the potential of the whole segment and its themes down pretty effectively, unfortunately.\n",
      "\n",
      "<br /><br />\n",
      "\n",
      "But then we get to the thing the film makers were interested the most in. Which is the action, the outrageous and over-the-top action. The fight scenes include traditional kung fu, some sticks, meat cleavers and the like and they're used here as hysterically as in the most mind blowing kung fu scene I've seen in any film ever, Jackie Chan's Drunken Master II (1994), they really are that great! There are wires and they're used very cleverly and people literally fly to the opposite corner of the room when they get kicked or punched. Simply amazing and again something ONLY Hong Kong cinema can deliver. Also the dangerous stunts make the viewer hold his/her breath as the film has one fast car vs. pedicab chase sequence and various dangerous looking jumps and twisting bodies flying through the air and crushing with force to the hard destination. Still the film makers seem not to \"accept\" the violence of the film as Sammo is, like the late Bruce Lee, willing to give himself up after the final murderous mayhem at the gangster villa, and I think this kind of morale, no matter how obvious or shallow it may be, is a good thing even in a harmless film like this, as cinema is meant to be much more than just brainless entertainment.\n",
      "\n",
      "<br /><br />\n",
      "\n",
      "The film has also some very witty bits of humor that I'm not sure everyone in Hollywood or America (for example) would understand or like at all. The hilarious Star Wars gag at the beginning is definitely among these and it literally forced me to laugh when I realized what I was seeing. Also some funny scenes are created out of Sammo's passion for Ping. Still, the greatest amazement-filled laugh came during the scenes depicted in the former pharagraph as the imagery of big and tall men flying with great force over the screen to the walls or furniture is simply INSANE and so breathtaking I just cannot hide my feelings and thoughts about these Eastern film makers when I witness something like this, and this is nothing but positive and appreciating reaction, of course.\n",
      "\n",
      "<br /><br />\n",
      "\n",
      "Pedicab Driver is among the most incredible Hong Kong action films that I have ever seen and easily among Sammo's greatest achievements. If the few minor flaws were not there, this could rate even brighter and higher. 8/10\n",
      "\n"
     ]
    }
   ],
   "source": [
    "print(text)"
   ]
  },
  {
   "cell_type": "code",
   "execution_count": 21,
   "id": "12bdd6d9-d580-438f-a2b0-32ae8de63377",
   "metadata": {},
   "outputs": [],
   "source": []
  },
  {
   "cell_type": "code",
   "execution_count": 20,
   "id": "d4e4ef93-c489-4cb8-9b65-e8ea6d29afbb",
   "metadata": {},
   "outputs": [
    {
     "name": "stderr",
     "output_type": "stream",
     "text": [
      "'unzip' is not recognized as an internal or external command,\n",
      "operable program or batch file.\n"
     ]
    }
   ],
   "source": []
  },
  {
   "cell_type": "code",
   "execution_count": null,
   "id": "983aafb1-0d09-47ee-9268-bba1cf36ef11",
   "metadata": {},
   "outputs": [],
   "source": []
  },
  {
   "cell_type": "code",
   "execution_count": null,
   "id": "71626241-6f4f-4ae1-9ea2-758d9d45d952",
   "metadata": {},
   "outputs": [],
   "source": []
  },
  {
   "cell_type": "code",
   "execution_count": null,
   "id": "47010404-de55-43fc-b6ba-7dcd70a6d767",
   "metadata": {},
   "outputs": [],
   "source": []
  },
  {
   "cell_type": "code",
   "execution_count": null,
   "id": "c7925d8f-3b75-40b0-8ccf-b6a073c348bf",
   "metadata": {},
   "outputs": [],
   "source": []
  }
 ],
 "metadata": {
  "kernelspec": {
   "display_name": "Python 3 (ipykernel)",
   "language": "python",
   "name": "python3"
  },
  "language_info": {
   "codemirror_mode": {
    "name": "ipython",
    "version": 3
   },
   "file_extension": ".py",
   "mimetype": "text/x-python",
   "name": "python",
   "nbconvert_exporter": "python",
   "pygments_lexer": "ipython3",
   "version": "3.11.7"
  }
 },
 "nbformat": 4,
 "nbformat_minor": 5
}

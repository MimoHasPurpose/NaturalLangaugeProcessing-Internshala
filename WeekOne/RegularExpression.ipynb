{
 "cells": [
  {
   "cell_type": "raw",
   "id": "3c0f5d92-b322-4db7-bd67-a717a646a208",
   "metadata": {},
   "source": [
    "##Regular Expression in Python\n",
    "#match\n",
    "#search\n",
    "#findall\n",
    "#finditer\n",
    "#sub\n",
    "#split\n",
    "groups"
   ]
  },
  {
   "cell_type": "code",
   "execution_count": 2,
   "id": "2cd2a67f-e689-4aee-8886-b8a2d2d49729",
   "metadata": {},
   "outputs": [],
   "source": [
    "import re\n"
   ]
  },
  {
   "cell_type": "code",
   "execution_count": 3,
   "id": "0fa036ba-a1a7-4291-8d84-f7c09be9501c",
   "metadata": {},
   "outputs": [],
   "source": [
    "string=\"Tiger is the national animal of india, Tiger lives in forest\"\n",
    "pattern=\"Tiger\"\n",
    "result=re.match(pattern,string)"
   ]
  },
  {
   "cell_type": "code",
   "execution_count": 4,
   "id": "96cfda00-99dd-4a1e-9aa1-5d14b079ad9e",
   "metadata": {},
   "outputs": [
    {
     "data": {
      "text/plain": [
       "<re.Match object; span=(0, 5), match='Tiger'>"
      ]
     },
     "execution_count": 4,
     "metadata": {},
     "output_type": "execute_result"
    }
   ],
   "source": [
    "result"
   ]
  },
  {
   "cell_type": "code",
   "execution_count": 5,
   "id": "6342c214-8b6b-4ddb-a783-8fca4f774c3d",
   "metadata": {},
   "outputs": [
    {
     "name": "stdout",
     "output_type": "stream",
     "text": [
      "<re.Match object; span=(0, 5), match='Tiger'>\n"
     ]
    }
   ],
   "source": [
    "print(result)"
   ]
  },
  {
   "cell_type": "code",
   "execution_count": 6,
   "id": "895375c9-eb30-48ae-ab98-94780bcb7337",
   "metadata": {},
   "outputs": [],
   "source": [
    "result=result.group()"
   ]
  },
  {
   "cell_type": "code",
   "execution_count": 7,
   "id": "b4ad4400-b48b-4d18-97c0-e77ca6dafe4b",
   "metadata": {},
   "outputs": [
    {
     "data": {
      "text/plain": [
       "'Tiger'"
      ]
     },
     "execution_count": 7,
     "metadata": {},
     "output_type": "execute_result"
    }
   ],
   "source": [
    "result\n"
   ]
  },
  {
   "cell_type": "code",
   "execution_count": 8,
   "id": "80809a65-2950-4bf3-94e4-97120ed216f4",
   "metadata": {},
   "outputs": [],
   "source": [
    "\n",
    "string2=\"The national animal of India is tiger\"\n",
    "pattern=\"tiger\"\n",
    "#checking for match\n",
    "result=re.match(string2,pattern)"
   ]
  },
  {
   "cell_type": "code",
   "execution_count": 9,
   "id": "cafd0f7d-7f2b-4865-b072-09f9bd891558",
   "metadata": {},
   "outputs": [],
   "source": [
    "result\n"
   ]
  },
  {
   "cell_type": "code",
   "execution_count": 15,
   "id": "44c14329-dd99-4b17-85ad-3a1030bef0e5",
   "metadata": {},
   "outputs": [],
   "source": [
    "\n",
    "##String: search()\n",
    "string=\"The national animal of india is Tiger. Tiger lives in forest.\"\n",
    "\n",
    "pattern2=\"Tiger\"\n",
    "\n",
    "result2=re.search(pattern2,string)\n",
    "\n"
   ]
  },
  {
   "cell_type": "code",
   "execution_count": 16,
   "id": "1f443cf3-1731-4b0a-ad30-5463cbb88df9",
   "metadata": {},
   "outputs": [
    {
     "name": "stdout",
     "output_type": "stream",
     "text": [
      "<re.Match object; span=(32, 37), match='Tiger'>\n"
     ]
    }
   ],
   "source": [
    "print(result2)"
   ]
  },
  {
   "cell_type": "code",
   "execution_count": 19,
   "id": "ddb7c79c-50e2-45de-8314-ff510f973762",
   "metadata": {},
   "outputs": [],
   "source": [
    "result2=re.search(pattern2,string).group()"
   ]
  },
  {
   "cell_type": "code",
   "execution_count": 20,
   "id": "2d7ac703-a8f5-41c6-83c2-72bb881e59b3",
   "metadata": {},
   "outputs": [
    {
     "data": {
      "text/plain": [
       "'Tiger'"
      ]
     },
     "execution_count": 20,
     "metadata": {},
     "output_type": "execute_result"
    }
   ],
   "source": [
    "\n",
    "result2"
   ]
  },
  {
   "cell_type": "code",
   "execution_count": 21,
   "id": "c1cf924f-bbfc-467a-a0c9-ef6fe4c27bf6",
   "metadata": {},
   "outputs": [],
   "source": [
    "#Find all\n",
    "result3=re.findall(pattern2,string)"
   ]
  },
  {
   "cell_type": "code",
   "execution_count": 22,
   "id": "7e365e29-e132-4c89-8ed2-3b87b05fa8b9",
   "metadata": {},
   "outputs": [
    {
     "data": {
      "text/plain": [
       "['Tiger', 'Tiger']"
      ]
     },
     "execution_count": 22,
     "metadata": {},
     "output_type": "execute_result"
    }
   ],
   "source": [
    "result3"
   ]
  },
  {
   "cell_type": "code",
   "execution_count": 3,
   "id": "86cf1d25-d266-4f86-97ca-f8a2d6bce4be",
   "metadata": {},
   "outputs": [
    {
     "data": {
      "text/plain": [
       "['15-08-1947', '26-01-1950']"
      ]
     },
     "execution_count": 3,
     "metadata": {},
     "output_type": "execute_result"
    }
   ],
   "source": [
    "text=\"India get freedom on 15-08-1947, and it is celebrated as Independence day.\\\n",
    "    Indian constitution came into effect on 26-01-1950, and celebrated as republic day\"\n",
    "#defining the pattern\n",
    "date_pattern=r'\\d{2}-\\d{2}-\\d{4}'\n",
    "re.findall(date_pattern,text)"
   ]
  },
  {
   "cell_type": "code",
   "execution_count": 4,
   "id": "93524f9c-45ec-4b89-87c9-5206f9d2fe36",
   "metadata": {},
   "outputs": [
    {
     "name": "stdout",
     "output_type": "stream",
     "text": [
      "<callable_iterator object at 0x000001B0E09EEE60>\n"
     ]
    }
   ],
   "source": [
    "# finditer\n",
    "# finall() but return an iterator\n",
    "string=\"The national animal of India is Tiger. TIger lives in Forest.\"\n",
    "pattern=\"Tiger\"\n",
    "#using finditer in a string\n",
    "result=re.finditer(pattern,string)\n",
    "print(result)"
   ]
  },
  {
   "cell_type": "code",
   "execution_count": 5,
   "id": "da8d3a7b-eaf5-4ed8-af99-41377c16483f",
   "metadata": {},
   "outputs": [
    {
     "name": "stdout",
     "output_type": "stream",
     "text": [
      "<re.Match object; span=(32, 37), match='Tiger'>\n",
      "Start:  32 End:  37 Sub-string: Tiger\n"
     ]
    }
   ],
   "source": [
    "for m in result:\n",
    "    print(m)\n",
    "    print('Start: ',m.start(),'End: ',m.end(),'Sub-string:',m.group())"
   ]
  },
  {
   "cell_type": "code",
   "execution_count": 6,
   "id": "896ebdfa-79af-4bc9-931b-71d71b6714f1",
   "metadata": {},
   "outputs": [
    {
     "name": "stdout",
     "output_type": "stream",
     "text": [
      "Analytics Vidhya is largest Analytics community of the World\n"
     ]
    }
   ],
   "source": [
    "#sub\n",
    "text=\"Analytics Vidhya is largest Analytics community of India\"\n",
    "result=re.sub('India','the World',text)\n",
    "print(result)"
   ]
  },
  {
   "cell_type": "code",
   "execution_count": 8,
   "id": "d737ef2b-9264-4cbb-bbaf-2cbe3e3f6194",
   "metadata": {},
   "outputs": [
    {
     "data": {
      "text/plain": [
       "['I have a big test tomorrow', \" I can't go out tonight.\"]"
      ]
     },
     "execution_count": 8,
     "metadata": {},
     "output_type": "execute_result"
    }
   ],
   "source": [
    "#split\n",
    "line=\"I have a big test tomorrow; I can't go out tonight.\"\n",
    "re.split(r'[;]',line)\n",
    "\n",
    "\n"
   ]
  },
  {
   "cell_type": "code",
   "execution_count": 21,
   "id": "f6a3c8c1-48ce-4d18-96a4-e15f8142f2fc",
   "metadata": {},
   "outputs": [
    {
     "name": "stdout",
     "output_type": "stream",
     "text": [
      "['Ajay credited $500 to your account on 13-08-2020', 'Anmol debited $1,700 from your account on 14-08-2020', 'Alex debited $100 on 16-08-2020']\n"
     ]
    }
   ],
   "source": [
    "# Running a simple pattern on some text\n",
    "string=\"Ajay credited $500 to your account on 13-08-2020.\\\n",
    "      Anmol debited $1,700 from your account on 14-08-2020.\\\n",
    "      Alex debited $100 on 16-08-2020 from your account.\"\n",
    "\n",
    "pattern=\"[\\w]+ [\\w]+ \\$[\\d,]+ [a-zA-z ]+ \\d{2}-\\d{2}-\\d{4}\"\n",
    "\n",
    "result=re.findall(pattern,string)\n",
    "\n",
    "print(result)"
   ]
  },
  {
   "cell_type": "code",
   "execution_count": 22,
   "id": "a82a8c68-85c3-4788-b000-495f4810836a",
   "metadata": {},
   "outputs": [
    {
     "name": "stdout",
     "output_type": "stream",
     "text": [
      "[('Ajay', 'credited', '$500', '13-08-2020'), ('Anmol', 'debited', '$1,700', '14-08-2020'), ('Alex', 'debited', '$100', '16-08-2020')]\n"
     ]
    }
   ],
   "source": [
    "string=\"Ajay credited $500 to your account on 13-08-2020.\\\n",
    "      Anmol debited $1,700 from your account on 14-08-2020.\\\n",
    "      Alex debited $100 on 16-08-2020 from your account.\"\n",
    "\n",
    "# Creating groups in the previous pattern\n",
    "pattern=\"([\\w]+) ([\\w]+) (\\$[\\d,]+) [a-zA-z ]+ (\\d{2}-\\d{2}-\\d{4})\"\n",
    "\n",
    "result=re.findall(pattern,string)\n",
    "\n",
    "print(result)"
   ]
  },
  {
   "cell_type": "code",
   "execution_count": 23,
   "id": "3b263771-b414-4e90-97d2-b9a372ba032b",
   "metadata": {},
   "outputs": [
    {
     "data": {
      "text/html": [
       "<div>\n",
       "<style scoped>\n",
       "    .dataframe tbody tr th:only-of-type {\n",
       "        vertical-align: middle;\n",
       "    }\n",
       "\n",
       "    .dataframe tbody tr th {\n",
       "        vertical-align: top;\n",
       "    }\n",
       "\n",
       "    .dataframe thead th {\n",
       "        text-align: right;\n",
       "    }\n",
       "</style>\n",
       "<table border=\"1\" class=\"dataframe\">\n",
       "  <thead>\n",
       "    <tr style=\"text-align: right;\">\n",
       "      <th></th>\n",
       "      <th>Name</th>\n",
       "      <th>Type</th>\n",
       "      <th>Amount</th>\n",
       "      <th>Date</th>\n",
       "    </tr>\n",
       "  </thead>\n",
       "  <tbody>\n",
       "    <tr>\n",
       "      <th>0</th>\n",
       "      <td>Ajay</td>\n",
       "      <td>credited</td>\n",
       "      <td>$500</td>\n",
       "      <td>13-08-2020</td>\n",
       "    </tr>\n",
       "    <tr>\n",
       "      <th>1</th>\n",
       "      <td>Anmol</td>\n",
       "      <td>debited</td>\n",
       "      <td>$1,700</td>\n",
       "      <td>14-08-2020</td>\n",
       "    </tr>\n",
       "    <tr>\n",
       "      <th>2</th>\n",
       "      <td>Alex</td>\n",
       "      <td>debited</td>\n",
       "      <td>$100</td>\n",
       "      <td>16-08-2020</td>\n",
       "    </tr>\n",
       "  </tbody>\n",
       "</table>\n",
       "</div>"
      ],
      "text/plain": [
       "    Name      Type  Amount        Date\n",
       "0   Ajay  credited    $500  13-08-2020\n",
       "1  Anmol   debited  $1,700  14-08-2020\n",
       "2   Alex   debited    $100  16-08-2020"
      ]
     },
     "execution_count": 23,
     "metadata": {},
     "output_type": "execute_result"
    }
   ],
   "source": [
    "import pandas as pd\n",
    "\n",
    "# Creating a dataframe\n",
    "df=pd.DataFrame(result,columns=['Name','Type','Amount','Date'])\n",
    "df"
   ]
  },
  {
   "cell_type": "code",
   "execution_count": 24,
   "id": "674d71f2-9c3a-48cc-9aa3-6b0025743968",
   "metadata": {},
   "outputs": [
    {
     "name": "stdout",
     "output_type": "stream",
     "text": [
      "Ajay credited $500 to your account on 13-08-2020 => Ajay => credited => $500 => 13-08-2020\n",
      "Anmol debited $1,700 from your account on 14-08-2020 => Anmol => debited => $1,700 => 14-08-2020\n",
      "Alex debited $100 on 16-08-2020 => Alex => debited => $100 => 16-08-2020\n"
     ]
    }
   ],
   "source": [
    "# Using finditer() for getting match objects\n",
    "string=\"Ajay credited $500 to your account on 13-08-2020.\\\n",
    "      Anmol debited $1,700 from your account on 14-08-2020.\\\n",
    "      Alex debited $100 on 16-08-2020 from your account.\"\n",
    "\n",
    "pattern=\"([\\w]+) ([\\w]+) (\\$[\\d,]+) [a-zA-z ]+ (\\d{2}-\\d{2}-\\d{4})\"\n",
    "\n",
    "result=re.finditer(pattern,string)\n",
    "\n",
    "# Accessing groups separately\n",
    "for i in result:\n",
    "    print(i.group(0),'=>',i.group(1),'=>',i.group(2),'=>',i.group(3),'=>',i.group(4))"
   ]
  },
  {
   "cell_type": "code",
   "execution_count": 25,
   "id": "13387c47-1300-497a-b2fa-96914f547132",
   "metadata": {},
   "outputs": [],
   "source": [
    "string=\"Ajay credited $500 to your account on 13-08-2020.\\\n",
    "      Anmol debited $1,700 from your account on 14-08-2020.\\\n",
    "      Alex debited $100 on 16-08-2020 from your account.\"\n",
    "\n",
    "# Naming Groups\n",
    "pattern=\"(?P<Name>[\\w]+) (?P<Type>[\\w]+) (?P<Amount>\\$[\\d,]+) [a-zA-z ]+ (?P<Date>\\d{2}-\\d{2}-\\d{4})\"\n",
    "\n",
    "result=list(re.finditer(pattern,string))"
   ]
  },
  {
   "cell_type": "code",
   "execution_count": 26,
   "id": "23d2430a-547f-4469-a18c-ee4bb644bfec",
   "metadata": {},
   "outputs": [
    {
     "name": "stdout",
     "output_type": "stream",
     "text": [
      "Ajay => $500 => 13-08-2020 => credited\n",
      "Anmol => $1,700 => 14-08-2020 => debited\n",
      "Alex => $100 => 16-08-2020 => debited\n"
     ]
    }
   ],
   "source": [
    "# Accessing data by group names\n",
    "for i in result:\n",
    "    print(i.group('Name'),'=>',i.group('Amount'),'=>',i.group('Date'),'=>',i.group('Type'))"
   ]
  },
  {
   "cell_type": "code",
   "execution_count": 28,
   "id": "9a8ec7bb-27f6-47d4-a129-6ee56ebe5dad",
   "metadata": {},
   "outputs": [
    {
     "name": "stdout",
     "output_type": "stream",
     "text": [
      "{'Name': 'Ajay', 'Type': 'credited', 'Amount': '$500', 'Date': '13-08-2020'}\n",
      "{'Name': 'Anmol', 'Type': 'debited', 'Amount': '$1,700', 'Date': '14-08-2020'}\n",
      "{'Name': 'Alex', 'Type': 'debited', 'Amount': '$100', 'Date': '16-08-2020'}\n"
     ]
    }
   ],
   "source": [
    "# Printing data with group names\n",
    "for i in result:\n",
    "    print(i.groupdict())"
   ]
  },
  {
   "cell_type": "code",
   "execution_count": null,
   "id": "ff282988-4484-47af-8356-fbf8373af1ea",
   "metadata": {},
   "outputs": [],
   "source": []
  },
  {
   "cell_type": "code",
   "execution_count": null,
   "id": "a29a48c7-0e0d-4cb9-b5f0-76064de8e1c0",
   "metadata": {},
   "outputs": [],
   "source": []
  },
  {
   "cell_type": "code",
   "execution_count": null,
   "id": "3e0b6420-0391-474b-a8ca-db24faa0f9a5",
   "metadata": {},
   "outputs": [],
   "source": []
  }
 ],
 "metadata": {
  "kernelspec": {
   "display_name": "Python 3 (ipykernel)",
   "language": "python",
   "name": "python3"
  },
  "language_info": {
   "codemirror_mode": {
    "name": "ipython",
    "version": 3
   },
   "file_extension": ".py",
   "mimetype": "text/x-python",
   "name": "python",
   "nbconvert_exporter": "python",
   "pygments_lexer": "ipython3",
   "version": "3.11.7"
  }
 },
 "nbformat": 4,
 "nbformat_minor": 5
}

{
  "nbformat": 4,
  "nbformat_minor": 0,
  "metadata": {
    "colab": {
      "provenance": []
    },
    "kernelspec": {
      "name": "python3",
      "display_name": "Python 3"
    },
    "language_info": {
      "name": "python"
    }
  },
  "cells": [
    {
      "cell_type": "code",
      "execution_count": 1,
      "metadata": {
        "id": "Mm1A_F67Fi5Q"
      },
      "outputs": [],
      "source": [
        "#Importing libraries\n",
        "import spacy\n",
        "from spacy.matcher import Matcher\n",
        "from spacy import displacy"
      ]
    },
    {
      "cell_type": "code",
      "source": [],
      "metadata": {
        "id": "4ZIWC037h2Nc"
      },
      "execution_count": null,
      "outputs": []
    },
    {
      "cell_type": "code",
      "source": [
        "#load spacy model\n",
        "nlp=spacy.load('en_core_web_sm')"
      ],
      "metadata": {
        "id": "FtOsUAcxMGNV"
      },
      "execution_count": 2,
      "outputs": []
    },
    {
      "cell_type": "code",
      "source": [
        "# pattern 1: X such as Y\n",
        "#deine string\n",
        "text=\"Developed countries such as USA have better healthcare infrastructure compared to developing countries.\"\n",
        "#create spacy object\n",
        "doc=nlp(text)"
      ],
      "metadata": {
        "id": "57AnsvoVMGZP"
      },
      "execution_count": 20,
      "outputs": []
    },
    {
      "cell_type": "code",
      "source": [
        "#print POS tag, and dependency tags\n",
        "for token in doc:\n",
        "    print(token.text,'->',token.pos_,'->',token.dep_)"
      ],
      "metadata": {
        "colab": {
          "base_uri": "https://localhost:8080/"
        },
        "id": "dVRTIUv5MGgr",
        "outputId": "fbd3a55b-4817-44e3-a1b8-fa0f92236d7e"
      },
      "execution_count": 4,
      "outputs": [
        {
          "output_type": "stream",
          "name": "stdout",
          "text": [
            "Developed -> ADJ -> amod\n",
            "countries -> NOUN -> nsubj\n",
            "such -> ADJ -> amod\n",
            "as -> ADP -> prep\n",
            "USA -> PROPN -> pobj\n",
            "have -> VERB -> ROOT\n",
            "better -> ADJ -> amod\n",
            "healthcare -> NOUN -> compound\n",
            "infrastructure -> NOUN -> dobj\n",
            "compared -> VERB -> prep\n",
            "to -> ADP -> prep\n",
            "developing -> VERB -> amod\n",
            "countries -> NOUN -> pobj\n",
            ". -> PUNCT -> punct\n"
          ]
        }
      ]
    },
    {
      "cell_type": "code",
      "source": [
        "# Pattern: Noun+ such +as +PROPN"
      ],
      "metadata": {
        "id": "Igx2uME5MG9p"
      },
      "execution_count": 5,
      "outputs": []
    },
    {
      "cell_type": "code",
      "source": [
        "#Define the pattern\n",
        "pattern=[{'POS':'NOUN'},\n",
        "         {'LOWER':'such'},\n",
        "         {'LOWER':'as'},\n",
        "         {'POS':'PROPN'}\n",
        "         ]"
      ],
      "metadata": {
        "id": "2ttDUVQUMHEB"
      },
      "execution_count": 7,
      "outputs": []
    },
    {
      "cell_type": "code",
      "source": [
        "#create matcher object\n",
        "matcher=Matcher(nlp.vocab)"
      ],
      "metadata": {
        "id": "OivTXlFtMHL6"
      },
      "execution_count": 8,
      "outputs": []
    },
    {
      "cell_type": "code",
      "source": [
        "#Add the rule to matcher\n",
        "matcher.add(\"Pattern X such as Y\",[pattern])"
      ],
      "metadata": {
        "id": "HAQHvaSkOKIx"
      },
      "execution_count": 13,
      "outputs": []
    },
    {
      "cell_type": "code",
      "source": [
        "matches=matcher(doc)"
      ],
      "metadata": {
        "id": "k_pefh-AOKsl"
      },
      "execution_count": 14,
      "outputs": []
    },
    {
      "cell_type": "code",
      "source": [
        "matches"
      ],
      "metadata": {
        "colab": {
          "base_uri": "https://localhost:8080/"
        },
        "id": "6QZUEMTOOKyz",
        "outputId": "c59d4de4-ac7e-461d-cfa6-29701023b048"
      },
      "execution_count": 15,
      "outputs": [
        {
          "output_type": "execute_result",
          "data": {
            "text/plain": [
              "[(17711623125337077988, 1, 5)]"
            ]
          },
          "metadata": {},
          "execution_count": 15
        }
      ]
    },
    {
      "cell_type": "code",
      "source": [],
      "metadata": {
        "colab": {
          "base_uri": "https://localhost:8080/"
        },
        "id": "a1UBvbheQnhf",
        "outputId": "8f46d836-8718-404b-e3ba-fe5a64728dba"
      },
      "execution_count": 23,
      "outputs": [
        {
          "output_type": "stream",
          "name": "stdout",
          "text": [
            "<class 'list'>\n"
          ]
        }
      ]
    },
    {
      "cell_type": "code",
      "source": [
        "#extracting matched string\n",
        "span=doc[matches[0][1]:matches[0][2]]\n",
        "print(span)\n",
        "# countries is superset"
      ],
      "metadata": {
        "colab": {
          "base_uri": "https://localhost:8080/"
        },
        "id": "7APBGuBJOK41",
        "outputId": "2f4d1fae-572e-4828-e2f6-ed8f619ca4a9"
      },
      "execution_count": 21,
      "outputs": [
        {
          "output_type": "stream",
          "name": "stdout",
          "text": [
            "countries such as USA\n"
          ]
        }
      ]
    },
    {
      "cell_type": "code",
      "source": [
        "#define another string\n",
        "text=\"I love eating healthy fruits such as Apple. I like supercars such as Lamborghini.\""
      ],
      "metadata": {
        "id": "W6WC1mrPOK_D"
      },
      "execution_count": 25,
      "outputs": []
    },
    {
      "cell_type": "code",
      "source": [
        "#create doc object\n",
        "doc=nlp(text)\n",
        "matches=matcher(doc)\n",
        "for match in matches:\n",
        "  print(doc[match[1]:match[2]])"
      ],
      "metadata": {
        "colab": {
          "base_uri": "https://localhost:8080/"
        },
        "id": "fPsT76JCQONT",
        "outputId": "07597366-b2dd-4605-a698-e1dc8de6c625"
      },
      "execution_count": 26,
      "outputs": [
        {
          "output_type": "stream",
          "name": "stdout",
          "text": [
            "fruits such as Apple\n",
            "supercars such as Lamborghini\n"
          ]
        }
      ]
    },
    {
      "cell_type": "code",
      "source": [
        "# pattern 2: X and/ or other Y\n",
        "doc=nlp(\"In this way you can disinfect your car and other vehicles\")"
      ],
      "metadata": {
        "id": "L8G7MOYMQOWo"
      },
      "execution_count": 35,
      "outputs": []
    },
    {
      "cell_type": "code",
      "source": [
        "for token in doc:\n",
        "  print(token.text,'->',token.pos_,'->',token.dep_)"
      ],
      "metadata": {
        "colab": {
          "base_uri": "https://localhost:8080/"
        },
        "id": "hkDOHg_TQOeY",
        "outputId": "b880b08a-7085-4e6a-d5f1-0628f2c1cf19"
      },
      "execution_count": 28,
      "outputs": [
        {
          "output_type": "stream",
          "name": "stdout",
          "text": [
            "In -> ADP -> prep\n",
            "this -> DET -> det\n",
            "way -> NOUN -> pobj\n",
            "you -> PRON -> nsubj\n",
            "can -> AUX -> aux\n",
            "disinfect -> VERB -> ROOT\n",
            "your -> PRON -> poss\n",
            "car -> NOUN -> dobj\n",
            "and -> CCONJ -> cc\n",
            "other -> ADJ -> amod\n",
            "vehicle -> NOUN -> conj\n"
          ]
        }
      ]
    },
    {
      "cell_type": "code",
      "source": [
        "#Pattern: NOUN+and+other+NOUN"
      ],
      "metadata": {
        "id": "4wd25IMmQOlp"
      },
      "execution_count": 30,
      "outputs": []
    },
    {
      "cell_type": "code",
      "source": [
        "#define the pattern\n",
        "pattern=[{'POS':'NOUN'},\n",
        "         {'LOWER':'and'},\n",
        "         {'LOWER':'other'},\n",
        "         {'POS':'NOUN'}]"
      ],
      "metadata": {
        "id": "HZNTByotQOsg"
      },
      "execution_count": 31,
      "outputs": []
    },
    {
      "cell_type": "code",
      "source": [
        "#creeate matcher object\n",
        "matcher=Matcher(nlp.vocab)\n",
        "#add the rule to matcher\n",
        "matcher.add(\"Pattern X and other Y\",[pattern])"
      ],
      "metadata": {
        "id": "Mfj_P_uwQO0k"
      },
      "execution_count": 32,
      "outputs": []
    },
    {
      "cell_type": "code",
      "source": [
        "#running pattern on text\n",
        "matches=matcher(doc)\n",
        "for match in matches:\n",
        "  print(doc[match[1]:match[2]])"
      ],
      "metadata": {
        "colab": {
          "base_uri": "https://localhost:8080/"
        },
        "id": "44Pi_wU2QO8n",
        "outputId": "c184340d-fe6d-4aaa-e5e5-cc1603c95420"
      },
      "execution_count": 36,
      "outputs": [
        {
          "output_type": "stream",
          "name": "stdout",
          "text": [
            "car and other vehicles\n"
          ]
        }
      ]
    },
    {
      "cell_type": "markdown",
      "source": [
        "**Quantifiers**\n",
        "\n",
        "\n",
        "*   !-Negation\n",
        "*   ?-Optional\n",
        "*   +-1 or more\n",
        "*   *-0 or more\n",
        "\n"
      ],
      "metadata": {
        "id": "97OrDzUWTO_m"
      }
    },
    {
      "cell_type": "code",
      "source": [
        "#Define the pattern\n",
        "pattern = [{'POS':'NOUN'},\n",
        "           {'LOWER': 'and','OP':'?'},\n",
        "           {'LOWER':'or','OP':'?'},\n",
        "           {'LOWER': 'other'},\n",
        "           {'POS': 'NOUN'}]"
      ],
      "metadata": {
        "id": "TyswT8hwQPE_"
      },
      "execution_count": 50,
      "outputs": []
    },
    {
      "cell_type": "code",
      "source": [
        "# Create Matcher Object\n",
        "matcher=Matcher(nlp.vocab)\n",
        "\n",
        "# Add the rule to matcher\n",
        "matcher.add(\"Pattern X and/or Y\",[pattern])"
      ],
      "metadata": {
        "id": "uRR_bmJOT3M9"
      },
      "execution_count": 54,
      "outputs": []
    },
    {
      "cell_type": "code",
      "source": [
        "#Running pattern on text\n",
        "matches=matcher(doc)\n",
        "for match in matches:\n",
        "  print(doc[match[1]:match[2]])"
      ],
      "metadata": {
        "colab": {
          "base_uri": "https://localhost:8080/"
        },
        "id": "dDtmHXMBT3YS",
        "outputId": "f95db350-2381-4e48-be0b-a5da01c623a5"
      },
      "execution_count": 55,
      "outputs": [
        {
          "output_type": "stream",
          "name": "stdout",
          "text": [
            "car and other vehicles\n"
          ]
        }
      ]
    },
    {
      "cell_type": "code",
      "source": [
        "#drawbacks:\n",
        "# hides the implementation details\n",
        "#doesn't work on patterns in which words do not immediately follow each other.\n",
        "# subject+auxiliary+verb+....+object"
      ],
      "metadata": {
        "id": "iK7ipb_nT3f2"
      },
      "execution_count": null,
      "outputs": []
    },
    {
      "cell_type": "code",
      "source": [
        "#Using custom functions\n"
      ],
      "metadata": {
        "id": "HeWsA9OvT3m2"
      },
      "execution_count": null,
      "outputs": []
    },
    {
      "cell_type": "code",
      "source": [
        "# pattern 3: x going y\n",
        "doc=nlp(\"John is going to Berlin.\")"
      ],
      "metadata": {
        "id": "I9V3fSSBT3uR"
      },
      "execution_count": 56,
      "outputs": []
    },
    {
      "cell_type": "code",
      "source": [],
      "metadata": {
        "id": "IRq5h9e-gTas"
      },
      "execution_count": null,
      "outputs": []
    },
    {
      "cell_type": "code",
      "source": [],
      "metadata": {
        "id": "mFihWaR4gTsy"
      },
      "execution_count": null,
      "outputs": []
    },
    {
      "cell_type": "code",
      "source": [
        "displacy.render(doc,style=\"dep\",jupyter=True)"
      ],
      "metadata": {
        "colab": {
          "base_uri": "https://localhost:8080/",
          "height": 333
        },
        "id": "1rFguRSyT31s",
        "outputId": "18362afe-26fa-4514-ac8d-4b77a97175d4"
      },
      "execution_count": 57,
      "outputs": [
        {
          "output_type": "display_data",
          "data": {
            "text/plain": [
              "<IPython.core.display.HTML object>"
            ],
            "text/html": [
              "<span class=\"tex2jax_ignore\"><svg xmlns=\"http://www.w3.org/2000/svg\" xmlns:xlink=\"http://www.w3.org/1999/xlink\" xml:lang=\"en\" id=\"bf0e51a8142d4427961c8d06ab589c83-0\" class=\"displacy\" width=\"925\" height=\"312.0\" direction=\"ltr\" style=\"max-width: none; height: 312.0px; color: #000000; background: #ffffff; font-family: Arial; direction: ltr\">\n",
              "<text class=\"displacy-token\" fill=\"currentColor\" text-anchor=\"middle\" y=\"222.0\">\n",
              "    <tspan class=\"displacy-word\" fill=\"currentColor\" x=\"50\">John</tspan>\n",
              "    <tspan class=\"displacy-tag\" dy=\"2em\" fill=\"currentColor\" x=\"50\">PROPN</tspan>\n",
              "</text>\n",
              "\n",
              "<text class=\"displacy-token\" fill=\"currentColor\" text-anchor=\"middle\" y=\"222.0\">\n",
              "    <tspan class=\"displacy-word\" fill=\"currentColor\" x=\"225\">is</tspan>\n",
              "    <tspan class=\"displacy-tag\" dy=\"2em\" fill=\"currentColor\" x=\"225\">AUX</tspan>\n",
              "</text>\n",
              "\n",
              "<text class=\"displacy-token\" fill=\"currentColor\" text-anchor=\"middle\" y=\"222.0\">\n",
              "    <tspan class=\"displacy-word\" fill=\"currentColor\" x=\"400\">going</tspan>\n",
              "    <tspan class=\"displacy-tag\" dy=\"2em\" fill=\"currentColor\" x=\"400\">VERB</tspan>\n",
              "</text>\n",
              "\n",
              "<text class=\"displacy-token\" fill=\"currentColor\" text-anchor=\"middle\" y=\"222.0\">\n",
              "    <tspan class=\"displacy-word\" fill=\"currentColor\" x=\"575\">to</tspan>\n",
              "    <tspan class=\"displacy-tag\" dy=\"2em\" fill=\"currentColor\" x=\"575\">ADP</tspan>\n",
              "</text>\n",
              "\n",
              "<text class=\"displacy-token\" fill=\"currentColor\" text-anchor=\"middle\" y=\"222.0\">\n",
              "    <tspan class=\"displacy-word\" fill=\"currentColor\" x=\"750\">Berlin.</tspan>\n",
              "    <tspan class=\"displacy-tag\" dy=\"2em\" fill=\"currentColor\" x=\"750\">PROPN</tspan>\n",
              "</text>\n",
              "\n",
              "<g class=\"displacy-arrow\">\n",
              "    <path class=\"displacy-arc\" id=\"arrow-bf0e51a8142d4427961c8d06ab589c83-0-0\" stroke-width=\"2px\" d=\"M70,177.0 C70,2.0 400.0,2.0 400.0,177.0\" fill=\"none\" stroke=\"currentColor\"/>\n",
              "    <text dy=\"1.25em\" style=\"font-size: 0.8em; letter-spacing: 1px\">\n",
              "        <textPath xlink:href=\"#arrow-bf0e51a8142d4427961c8d06ab589c83-0-0\" class=\"displacy-label\" startOffset=\"50%\" side=\"left\" fill=\"currentColor\" text-anchor=\"middle\">nsubj</textPath>\n",
              "    </text>\n",
              "    <path class=\"displacy-arrowhead\" d=\"M70,179.0 L62,167.0 78,167.0\" fill=\"currentColor\"/>\n",
              "</g>\n",
              "\n",
              "<g class=\"displacy-arrow\">\n",
              "    <path class=\"displacy-arc\" id=\"arrow-bf0e51a8142d4427961c8d06ab589c83-0-1\" stroke-width=\"2px\" d=\"M245,177.0 C245,89.5 395.0,89.5 395.0,177.0\" fill=\"none\" stroke=\"currentColor\"/>\n",
              "    <text dy=\"1.25em\" style=\"font-size: 0.8em; letter-spacing: 1px\">\n",
              "        <textPath xlink:href=\"#arrow-bf0e51a8142d4427961c8d06ab589c83-0-1\" class=\"displacy-label\" startOffset=\"50%\" side=\"left\" fill=\"currentColor\" text-anchor=\"middle\">aux</textPath>\n",
              "    </text>\n",
              "    <path class=\"displacy-arrowhead\" d=\"M245,179.0 L237,167.0 253,167.0\" fill=\"currentColor\"/>\n",
              "</g>\n",
              "\n",
              "<g class=\"displacy-arrow\">\n",
              "    <path class=\"displacy-arc\" id=\"arrow-bf0e51a8142d4427961c8d06ab589c83-0-2\" stroke-width=\"2px\" d=\"M420,177.0 C420,89.5 570.0,89.5 570.0,177.0\" fill=\"none\" stroke=\"currentColor\"/>\n",
              "    <text dy=\"1.25em\" style=\"font-size: 0.8em; letter-spacing: 1px\">\n",
              "        <textPath xlink:href=\"#arrow-bf0e51a8142d4427961c8d06ab589c83-0-2\" class=\"displacy-label\" startOffset=\"50%\" side=\"left\" fill=\"currentColor\" text-anchor=\"middle\">prep</textPath>\n",
              "    </text>\n",
              "    <path class=\"displacy-arrowhead\" d=\"M570.0,179.0 L578.0,167.0 562.0,167.0\" fill=\"currentColor\"/>\n",
              "</g>\n",
              "\n",
              "<g class=\"displacy-arrow\">\n",
              "    <path class=\"displacy-arc\" id=\"arrow-bf0e51a8142d4427961c8d06ab589c83-0-3\" stroke-width=\"2px\" d=\"M595,177.0 C595,89.5 745.0,89.5 745.0,177.0\" fill=\"none\" stroke=\"currentColor\"/>\n",
              "    <text dy=\"1.25em\" style=\"font-size: 0.8em; letter-spacing: 1px\">\n",
              "        <textPath xlink:href=\"#arrow-bf0e51a8142d4427961c8d06ab589c83-0-3\" class=\"displacy-label\" startOffset=\"50%\" side=\"left\" fill=\"currentColor\" text-anchor=\"middle\">pobj</textPath>\n",
              "    </text>\n",
              "    <path class=\"displacy-arrowhead\" d=\"M745.0,179.0 L753.0,167.0 737.0,167.0\" fill=\"currentColor\"/>\n",
              "</g>\n",
              "</svg></span>"
            ]
          },
          "metadata": {}
        }
      ]
    },
    {
      "cell_type": "code",
      "source": [
        "# Function for extracting the relation\n",
        "def x_going_y(doc):\n",
        "  # Proceed if at least 3 words are present\n",
        "  if len(doc)>=3:\n",
        "    matches=[]\n",
        "\n",
        "    for i in range(len(doc)):\n",
        "      x=''\n",
        "      y=''\n",
        "\n",
        "      # Checking if the root word is going\n",
        "      if ((doc[i].dep_=='ROOT') and (doc[i].text=='going')):\n",
        "        # Accessing subtree\n",
        "        for token in doc[i].subtree:\n",
        "          # Checking if token is subject\n",
        "          if token.dep_.startswith('nsubj'):\n",
        "            x=token.text\n",
        "          # Checking if token is object\n",
        "          if token.dep_.endswith('obj'):\n",
        "            y=token.text\n",
        "        # Appending the triple into list\n",
        "        matches.append((x,doc[i].text,y))\n",
        "    return matches\n",
        "  return []"
      ],
      "metadata": {
        "id": "6r0PaeXVT39G"
      },
      "execution_count": 65,
      "outputs": []
    },
    {
      "cell_type": "code",
      "source": [
        "x_going_y(doc)"
      ],
      "metadata": {
        "colab": {
          "base_uri": "https://localhost:8080/"
        },
        "id": "A8sGdOPJT4FL",
        "outputId": "22c0e34f-55c7-4acf-b589-b30e9e759326"
      },
      "execution_count": 66,
      "outputs": [
        {
          "output_type": "execute_result",
          "data": {
            "text/plain": [
              "[('John', 'going', 'Berlin')]"
            ]
          },
          "metadata": {},
          "execution_count": 66
        }
      ]
    },
    {
      "cell_type": "code",
      "source": [
        "x_going_y(nlp('Sam was going on vacation to Mumbai. But, the train was going to Goa.'))"
      ],
      "metadata": {
        "colab": {
          "base_uri": "https://localhost:8080/"
        },
        "id": "kJ_HcL5JT4M7",
        "outputId": "b80f9175-0d7d-4652-c801-a53afcc87acc"
      },
      "execution_count": 67,
      "outputs": [
        {
          "output_type": "execute_result",
          "data": {
            "text/plain": [
              "[('Sam', 'going', 'Mumbai'), ('train', 'going', 'Goa')]"
            ]
          },
          "metadata": {},
          "execution_count": 67
        }
      ]
    },
    {
      "cell_type": "code",
      "source": [],
      "metadata": {
        "id": "GlynaLrpT4WD"
      },
      "execution_count": null,
      "outputs": []
    },
    {
      "cell_type": "code",
      "source": [],
      "metadata": {
        "id": "CxwuJ3beT4j_"
      },
      "execution_count": null,
      "outputs": []
    }
  ]
}
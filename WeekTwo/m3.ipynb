{
 "cells": [
  {
   "cell_type": "markdown",
   "metadata": {
    "id": "uyq2RjB-qD8Y"
   },
   "source": []
  },
  {
   "cell_type": "code",
   "execution_count": 2,
   "metadata": {
    "id": "KOCLVfLFrY3A"
   },
   "outputs": [],
   "source": [
    "# Normalization\n",
    "# Morpheme: base form of a word\n",
    "# Structure of token: <prefix><morpheme><suffix>\n",
    "# Anti+national+ist\n",
    "# Normalization: Process of converting a token into its base form(morpheme)\n",
    "# Helpful in reducing data dimensionality, text cleaning\n",
    "# types: Stemming and Lemmatization\n",
    "\n"
   ]
  },
  {
   "cell_type": "code",
   "execution_count": 3,
   "metadata": {
    "id": "Tz8sUYLGtqHX"
   },
   "outputs": [],
   "source": [
    "#defining the string\n",
    "text=\"The sky is clear and the stars are twinkling.\"\n",
    "import spacy"
   ]
  },
  {
   "cell_type": "code",
   "execution_count": 4,
   "metadata": {
    "id": "-VfqaEBst016"
   },
   "outputs": [],
   "source": [
    "#Loading spacy model\n",
    "nlp=spacy.load(\"en_core_web_sm\")"
   ]
  },
  {
   "cell_type": "code",
   "execution_count": 5,
   "metadata": {
    "id": "qLxRRQU7t4nW"
   },
   "outputs": [],
   "source": [
    "doc=nlp(text)"
   ]
  },
  {
   "cell_type": "code",
   "execution_count": 7,
   "metadata": {
    "colab": {
     "base_uri": "https://localhost:8080/"
    },
    "id": "YQafDkEFt6Jo",
    "outputId": "4a41e3ce-619b-4a79-e4ba-b66430cef8a3"
   },
   "outputs": [
    {
     "data": {
      "text/plain": [
       "[('The', 'the'),\n",
       " ('moon', 'moon'),\n",
       " ('looks', 'look'),\n",
       " ('beautiful', 'beautiful'),\n",
       " ('at', 'at'),\n",
       " ('night', 'night'),\n",
       " ('.', '.'),\n",
       " ('It', 'it'),\n",
       " (\"'s\", 'be'),\n",
       " ('hard', 'hard'),\n",
       " ('to', 'to'),\n",
       " ('resist', 'resist'),\n",
       " ('its', 'its'),\n",
       " ('beauty', 'beauty'),\n",
       " ('.', '.')]"
      ]
     },
     "execution_count": 7,
     "metadata": {},
     "output_type": "execute_result"
    }
   ],
   "source": [
    "#lemmatizing the text\n",
    "[(token.text,token.lemma_)for token in doc]"
   ]
  },
  {
   "cell_type": "code",
   "execution_count": null,
   "metadata": {
    "id": "0P04V0fhud1A"
   },
   "outputs": [],
   "source": []
  },
  {
   "cell_type": "code",
   "execution_count": 6,
   "metadata": {
    "colab": {
     "base_uri": "https://localhost:8080/"
    },
    "id": "dsZpssJruC1h",
    "outputId": "b1cb5c2b-dd3e-47c8-de86-0a4a1ad63d56"
   },
   "outputs": [
    {
     "data": {
      "text/plain": [
       "[('The', 'the'),\n",
       " ('moon', 'moon'),\n",
       " ('looks', 'look'),\n",
       " ('beautiful', 'beautiful'),\n",
       " ('at', 'at'),\n",
       " ('night', 'night'),\n",
       " ('.', '.'),\n",
       " ('It', 'it'),\n",
       " (\"'s\", 'be'),\n",
       " ('hard', 'hard'),\n",
       " ('to', 'to'),\n",
       " ('resist', 'resist'),\n",
       " ('its', 'its'),\n",
       " ('beauty', 'beauty'),\n",
       " ('.', '.')]"
      ]
     },
     "execution_count": 6,
     "metadata": {},
     "output_type": "execute_result"
    }
   ],
   "source": [
    "text=\"The moon looks beautiful at night. It's hard to resist its beauty.\"\n",
    "doc=nlp(text)\n",
    "[(token.text,token.lemma_)for token in doc]"
   ]
  }
 ],
 "metadata": {
  "colab": {
   "provenance": []
  },
  "kernelspec": {
   "display_name": "Python 3 (ipykernel)",
   "language": "python",
   "name": "python3"
  },
  "language_info": {
   "codemirror_mode": {
    "name": "ipython",
    "version": 3
   },
   "file_extension": ".py",
   "mimetype": "text/x-python",
   "name": "python",
   "nbconvert_exporter": "python",
   "pygments_lexer": "ipython3",
   "version": "3.11.7"
  }
 },
 "nbformat": 4,
 "nbformat_minor": 4
}

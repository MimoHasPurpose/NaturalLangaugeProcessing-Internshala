


# Normalization
# Morpheme: base form of a word
# Structure of token: <prefix><morpheme><suffix>
# Anti+national+ist
# Normalization: Process of converting a token into its base form(morpheme)
# Helpful in reducing data dimensionality, text cleaning
# types: Stemming and Lemmatization




#defining the string
text="The sky is clear and the stars are twinkling."
import spacy


#Loading spacy model
nlp=spacy.load("en_core_web_sm")


doc=nlp(text)


#lemmatizing the text
[(token.text,token.lemma_)for token in doc]





text="The moon looks beautiful at night. It's hard to resist its beauty."
doc=nlp(text)
[(token.text,token.lemma_)for token in doc]

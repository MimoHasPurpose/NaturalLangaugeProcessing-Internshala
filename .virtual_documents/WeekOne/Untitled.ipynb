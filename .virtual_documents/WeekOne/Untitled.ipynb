import pandas as pd


#Reading data from a csv file using read_csv()
reviews=pd.read_csv('textdata/reviews.csv')


reviews





































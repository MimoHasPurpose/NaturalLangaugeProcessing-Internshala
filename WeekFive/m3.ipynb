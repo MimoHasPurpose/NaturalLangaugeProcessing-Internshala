{
  "nbformat": 4,
  "nbformat_minor": 0,
  "metadata": {
    "colab": {
      "provenance": []
    },
    "kernelspec": {
      "name": "python3",
      "display_name": "Python 3"
    },
    "language_info": {
      "name": "python"
    }
  },
  "cells": [
    {
      "cell_type": "code",
      "execution_count": 1,
      "metadata": {
        "colab": {
          "base_uri": "https://localhost:8080/"
        },
        "id": "AGDsJeEUK-dG",
        "outputId": "15e29320-c2e9-4afb-c764-418f19bd40a4"
      },
      "outputs": [
        {
          "output_type": "stream",
          "name": "stdout",
          "text": [
            "Mounted at /content/drive\n"
          ]
        }
      ],
      "source": [
        "# mount drive\n",
        "from google.colab import drive\n",
        "drive.mount('/content/drive')"
      ]
    },
    {
      "cell_type": "markdown",
      "source": [
        "##1. Google's pre-trained Word2Vec\n",
        "\n",
        "Google has released a pre-trained Word2Vec model that has the advantage of being trained on **Google's News data set of 3 million words**. You can __download__ the word2vec embeddings from this [link](https://drive.google.com/file/d/0B7XkCwpI5KDYNlNUTTlSS21pQmM/edit?usp=sharing).\n",
        "\n",
        "__Installation__\n",
        "\n",
        " - Make sure you have downloaded it in the same folder where this Jupyter notebook is residing.\n",
        "\n",
        " - Once you have finished downloading, you need to decompress the file and store in the same directory as the jupyter notebook"
      ],
      "metadata": {
        "id": "degZTvrTQx7A"
      }
    },
    {
      "cell_type": "code",
      "source": [
        "!wget \"https://s3.amazonaws.com/dl4j-distribution/GoogleNews-vectors-negative300.bin.gz\"\n",
        "!gunzip GoogleNews-vectors-negative300.bin.gz"
      ],
      "metadata": {
        "colab": {
          "base_uri": "https://localhost:8080/"
        },
        "id": "zIwinDJiQawC",
        "outputId": "16b71866-9d9d-4c0b-ee3e-002ff0cb947b"
      },
      "execution_count": 3,
      "outputs": [
        {
          "output_type": "stream",
          "name": "stdout",
          "text": [
            "--2024-07-17 10:37:14--  https://s3.amazonaws.com/dl4j-distribution/GoogleNews-vectors-negative300.bin.gz\n",
            "Resolving s3.amazonaws.com (s3.amazonaws.com)... 54.231.132.104, 54.231.228.64, 52.216.25.150, ...\n",
            "Connecting to s3.amazonaws.com (s3.amazonaws.com)|54.231.132.104|:443... connected.\n",
            "HTTP request sent, awaiting response... 404 Not Found\n",
            "2024-07-17 10:37:14 ERROR 404: Not Found.\n",
            "\n",
            "gzip: GoogleNews-vectors-negative300.bin.gz: No such file or directory\n"
          ]
        }
      ]
    },
    {
      "cell_type": "markdown",
      "source": [
        "##2. Stanford NLP's pretrained GloVe\n",
        "\n",
        "Stanford NLP's GloVe is trained on different datasets. Smallest is trained on Wikipedia and Gigawords dataset containing **6 Billion tokens and a vocabulary of around 400,000 words**.\n",
        "\n",
        "__Installation__\n",
        "\n",
        " - Download the GloVe model from [Glove6B.zip](http://nlp.stanford.edu/data/glove.6B.zip).\n",
        "\n",
        " - Extract the zip file and store in the same sirectory as the jupyter notebook\n",
        " - Once you have extracted the file, you will see that there are multiple text files\n",
        "     1. **glove.6B.50d.txt**  - Contains 50 dimension vectors for each word of the vocabulary.\n",
        "     2. **glove.6B.100d.txt** - Contains 100 dimension vectors for each word of the vocabulary.\n",
        "     3. **glove.6B.200d.txt** - Contains 200 dimension vectors for each word of the vocabulary.\n",
        "     4. **glove.6B.300d.txt** - Contains 300 dimension vectors for each word of the vocabulary."
      ],
      "metadata": {
        "id": "YZXiTM50RmmY"
      }
    },
    {
      "cell_type": "code",
      "source": [
        "!wget \"http://nlp.stanford.edu/data/glove.6B.zip\"\n",
        "!unzip glove.6B.zip"
      ],
      "metadata": {
        "colab": {
          "base_uri": "https://localhost:8080/"
        },
        "id": "AwgombDeRn2n",
        "outputId": "cebd762c-9fee-407f-cdbb-393b4abc54cc"
      },
      "execution_count": 4,
      "outputs": [
        {
          "output_type": "stream",
          "name": "stdout",
          "text": [
            "--2024-07-17 10:42:29--  http://nlp.stanford.edu/data/glove.6B.zip\n",
            "Resolving nlp.stanford.edu (nlp.stanford.edu)... 171.64.67.140\n",
            "Connecting to nlp.stanford.edu (nlp.stanford.edu)|171.64.67.140|:80... connected.\n",
            "HTTP request sent, awaiting response... 302 Found\n",
            "Location: https://nlp.stanford.edu/data/glove.6B.zip [following]\n",
            "--2024-07-17 10:42:29--  https://nlp.stanford.edu/data/glove.6B.zip\n",
            "Connecting to nlp.stanford.edu (nlp.stanford.edu)|171.64.67.140|:443... connected.\n",
            "HTTP request sent, awaiting response... 301 Moved Permanently\n",
            "Location: https://downloads.cs.stanford.edu/nlp/data/glove.6B.zip [following]\n",
            "--2024-07-17 10:42:29--  https://downloads.cs.stanford.edu/nlp/data/glove.6B.zip\n",
            "Resolving downloads.cs.stanford.edu (downloads.cs.stanford.edu)... 171.64.64.22\n",
            "Connecting to downloads.cs.stanford.edu (downloads.cs.stanford.edu)|171.64.64.22|:443... connected.\n",
            "HTTP request sent, awaiting response... 200 OK\n",
            "Length: 862182613 (822M) [application/zip]\n",
            "Saving to: ‘glove.6B.zip.1’\n",
            "\n",
            "glove.6B.zip.1       11%[=>                  ]  98.15M  5.13MB/s    eta 1m 57s ^C\n",
            "Archive:  glove.6B.zip\n",
            "  End-of-central-directory signature not found.  Either this file is not\n",
            "  a zipfile, or it constitutes one disk of a multi-part archive.  In the\n",
            "  latter case the central directory and zipfile comment will be found on\n",
            "  the last disk(s) of this archive.\n",
            "unzip:  cannot find zipfile directory in one of glove.6B.zip or\n",
            "        glove.6B.zip.zip, and cannot find glove.6B.zip.ZIP, period.\n"
          ]
        }
      ]
    }
  ]
}
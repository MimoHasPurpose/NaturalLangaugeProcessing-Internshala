{
  "nbformat": 4,
  "nbformat_minor": 0,
  "metadata": {
    "colab": {
      "provenance": []
    },
    "kernelspec": {
      "name": "python3",
      "display_name": "Python 3"
    },
    "language_info": {
      "name": "python"
    }
  },
  "cells": [
    {
      "cell_type": "code",
      "execution_count": 1,
      "metadata": {
        "id": "Y-ratLKPSsDe"
      },
      "outputs": [],
      "source": [
        "import spacy"
      ]
    },
    {
      "cell_type": "code",
      "source": [
        "text=\"I'm working as a data scientist in the U.S and earning $140,000\""
      ],
      "metadata": {
        "id": "oJ4UVg6QTpGY"
      },
      "execution_count": 5,
      "outputs": []
    },
    {
      "cell_type": "code",
      "source": [
        "nlp=spacy.load('en_core_web_sm')"
      ],
      "metadata": {
        "id": "tGS8LR-ZSwQ6"
      },
      "execution_count": 2,
      "outputs": []
    },
    {
      "cell_type": "code",
      "source": [
        "doc=nlp(text)"
      ],
      "metadata": {
        "id": "cTcR6TbmTTmM"
      },
      "execution_count": 7,
      "outputs": []
    },
    {
      "cell_type": "code",
      "source": [
        "doc\n"
      ],
      "metadata": {
        "colab": {
          "base_uri": "https://localhost:8080/"
        },
        "id": "SsFSx6xsTTyv",
        "outputId": "4e0bf911-b6bd-4d10-9e80-f9e024e9866a"
      },
      "execution_count": 8,
      "outputs": [
        {
          "output_type": "execute_result",
          "data": {
            "text/plain": [
              "I'm working as a data scientist in the U.S and earning $140,000"
            ]
          },
          "metadata": {},
          "execution_count": 8
        }
      ]
    },
    {
      "cell_type": "code",
      "source": [
        "type(doc)"
      ],
      "metadata": {
        "colab": {
          "base_uri": "https://localhost:8080/"
        },
        "id": "Fe9bAoHvTT6M",
        "outputId": "a1de79b2-c56c-46c5-fe10-43fc3f3da457"
      },
      "execution_count": 9,
      "outputs": [
        {
          "output_type": "execute_result",
          "data": {
            "text/plain": [
              "spacy.tokens.doc.Doc"
            ]
          },
          "metadata": {},
          "execution_count": 9
        }
      ]
    },
    {
      "cell_type": "code",
      "source": [
        "#spacy tokenizer\n",
        "print([token for token in doc])"
      ],
      "metadata": {
        "colab": {
          "base_uri": "https://localhost:8080/"
        },
        "id": "1Rtd3ikmTUBD",
        "outputId": "05856737-e827-43d0-846f-39812b30cdb7"
      },
      "execution_count": 10,
      "outputs": [
        {
          "output_type": "stream",
          "name": "stdout",
          "text": [
            "[I, 'm, working, as, a, data, scientist, in, the, U.S, and, earning, $, 140,000]\n"
          ]
        }
      ]
    },
    {
      "cell_type": "code",
      "source": [
        "#type of token\n",
        "[type(token) for token in doc]"
      ],
      "metadata": {
        "colab": {
          "base_uri": "https://localhost:8080/"
        },
        "id": "a2Xh3E97TUHg",
        "outputId": "d860dc21-3110-4d64-9c8c-315c0fda2424"
      },
      "execution_count": 12,
      "outputs": [
        {
          "output_type": "execute_result",
          "data": {
            "text/plain": [
              "[spacy.tokens.token.Token,\n",
              " spacy.tokens.token.Token,\n",
              " spacy.tokens.token.Token,\n",
              " spacy.tokens.token.Token,\n",
              " spacy.tokens.token.Token,\n",
              " spacy.tokens.token.Token,\n",
              " spacy.tokens.token.Token,\n",
              " spacy.tokens.token.Token,\n",
              " spacy.tokens.token.Token,\n",
              " spacy.tokens.token.Token,\n",
              " spacy.tokens.token.Token,\n",
              " spacy.tokens.token.Token,\n",
              " spacy.tokens.token.Token,\n",
              " spacy.tokens.token.Token]"
            ]
          },
          "metadata": {},
          "execution_count": 12
        }
      ]
    },
    {
      "cell_type": "code",
      "source": [
        "#tokens as string\n",
        "print([token.text for token in doc])"
      ],
      "metadata": {
        "colab": {
          "base_uri": "https://localhost:8080/"
        },
        "id": "Hd5zWne-TUNu",
        "outputId": "16e5f53d-0d24-453e-e8bd-639bd36b2ec7"
      },
      "execution_count": 13,
      "outputs": [
        {
          "output_type": "stream",
          "name": "stdout",
          "text": [
            "['I', \"'m\", 'working', 'as', 'a', 'data', 'scientist', 'in', 'the', 'U.S', 'and', 'earning', '$', '140,000']\n"
          ]
        }
      ]
    },
    {
      "cell_type": "code",
      "source": [
        "#comparing whitespace and spacy tokenizer\n",
        "#white space tk\n",
        "print(text.split())\n",
        "#no of token\n",
        "print(len(text.split()))\n",
        "#spacy tk\n",
        "print([token.text for token in doc])\n",
        "#no of token\n",
        "print(len(doc))"
      ],
      "metadata": {
        "colab": {
          "base_uri": "https://localhost:8080/"
        },
        "id": "9Syr8Z4ZXkNg",
        "outputId": "22fecfc7-4c6e-4e72-c42f-8af01ae46d7d"
      },
      "execution_count": 17,
      "outputs": [
        {
          "output_type": "stream",
          "name": "stdout",
          "text": [
            "[\"I'm\", 'working', 'as', 'a', 'data', 'scientist', 'in', 'the', 'U.S', 'and', 'earning', '$140,000']\n",
            "12\n",
            "['I', \"'m\", 'working', 'as', 'a', 'data', 'scientist', 'in', 'the', 'U.S', 'and', 'earning', '$', '140,000']\n",
            "14\n"
          ]
        }
      ]
    },
    {
      "cell_type": "code",
      "source": [
        "text=\"My phone has 20% battery left\"\n",
        "#w t\n",
        "print(text.split())\n",
        "#spacy tk\n",
        "print([token.text for token in nlp(text)])"
      ],
      "metadata": {
        "colab": {
          "base_uri": "https://localhost:8080/"
        },
        "id": "36L-KwhMYuzK",
        "outputId": "ae842400-ec75-461c-ed7c-f36d3b671b1b"
      },
      "execution_count": 18,
      "outputs": [
        {
          "output_type": "stream",
          "name": "stdout",
          "text": [
            "['My', 'phone', 'has', '20%', 'battery', 'left']\n",
            "['My', 'phone', 'has', '20', '%', 'battery', 'left']\n"
          ]
        }
      ]
    },
    {
      "cell_type": "code",
      "source": [
        "text=\"I ran 10km today.\"\n",
        "#w t\n",
        "print(text.split())\n",
        "#spacy tk\n",
        "print([token.text for token in nlp(text)])"
      ],
      "metadata": {
        "colab": {
          "base_uri": "https://localhost:8080/"
        },
        "id": "JLB0PAqvYu-l",
        "outputId": "ebaab2b9-6956-4dea-fd24-75e4af913fac"
      },
      "execution_count": 19,
      "outputs": [
        {
          "output_type": "stream",
          "name": "stdout",
          "text": [
            "['I', 'ran', '10km', 'today.']\n",
            "['I', 'ran', '10', 'km', 'today', '.']\n"
          ]
        }
      ]
    },
    {
      "cell_type": "markdown",
      "source": [],
      "metadata": {
        "id": "iTtd6q0zaKWW"
      }
    },
    {
      "cell_type": "code",
      "source": [
        "text=\"I know HTML, css, javascript, C++, and Node.js\"\n",
        "#w t\n",
        "print(text.split())\n",
        "#spacy tk\n",
        "print([token.text for token in nlp(text)])"
      ],
      "metadata": {
        "colab": {
          "base_uri": "https://localhost:8080/"
        },
        "id": "ods_fJtBYvKC",
        "outputId": "b6466647-ad44-4b71-dfb6-0d07ff46ddb9"
      },
      "execution_count": 20,
      "outputs": [
        {
          "output_type": "stream",
          "name": "stdout",
          "text": [
            "['I', 'know', 'HTML,', 'css,', 'javascript,', 'C++,', 'and', 'Node.js']\n",
            "['I', 'know', 'HTML', ',', 'css', ',', 'javascript', ',', 'C++', ',', 'and', 'Node.js']\n"
          ]
        }
      ]
    },
    {
      "cell_type": "code",
      "source": [],
      "metadata": {
        "id": "wcWiZLSFYvUl"
      },
      "execution_count": null,
      "outputs": []
    },
    {
      "cell_type": "code",
      "source": [],
      "metadata": {
        "id": "WKCeIo5sYvch"
      },
      "execution_count": null,
      "outputs": []
    },
    {
      "cell_type": "markdown",
      "source": [],
      "metadata": {
        "id": "-2JBMeGHYvi2"
      }
    }
  ]
}
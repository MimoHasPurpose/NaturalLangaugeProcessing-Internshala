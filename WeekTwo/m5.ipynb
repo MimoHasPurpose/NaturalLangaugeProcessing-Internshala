{
  "nbformat": 4,
  "nbformat_minor": 0,
  "metadata": {
    "colab": {
      "provenance": []
    },
    "kernelspec": {
      "name": "python3",
      "display_name": "Python 3"
    },
    "language_info": {
      "name": "python"
    }
  },
  "cells": [
    {
      "cell_type": "code",
      "execution_count": 1,
      "metadata": {
        "id": "6oG6v0Qqu-S_"
      },
      "outputs": [],
      "source": [
        "#Dependency Parsing"
      ]
    },
    {
      "cell_type": "code",
      "source": [
        "import spacy\n",
        "nlp=spacy.load('en_core_web_sm')\n",
        "text=\"I will wear a white shirt on Monday\"\n",
        "doc=nlp(text)\n",
        "#getting dependency tags\n",
        "for token in doc:\n",
        "  print(token.text,'->',token.dep_)\n",
        ""
      ],
      "metadata": {
        "colab": {
          "base_uri": "https://localhost:8080/"
        },
        "id": "qTnLSN-fv0u-",
        "outputId": "1cf90fd9-de16-40c4-e1f6-231295116ef2"
      },
      "execution_count": 3,
      "outputs": [
        {
          "output_type": "stream",
          "name": "stdout",
          "text": [
            "I -> nsubj\n",
            "will -> aux\n",
            "wear -> ROOT\n",
            "a -> det\n",
            "white -> amod\n",
            "shirt -> dobj\n",
            "on -> prep\n",
            "Monday -> pobj\n"
          ]
        }
      ]
    },
    {
      "cell_type": "code",
      "source": [
        "from spacy import displacy"
      ],
      "metadata": {
        "id": "RGOrHirm5haX"
      },
      "execution_count": 4,
      "outputs": []
    },
    {
      "cell_type": "code",
      "source": [
        "displacy.render(doc,jupyter=True)"
      ],
      "metadata": {
        "colab": {
          "base_uri": "https://localhost:8080/",
          "height": 528
        },
        "id": "3v7h8HHm6YAU",
        "outputId": "bb9029ec-a050-4780-b382-e88dd895da37"
      },
      "execution_count": 5,
      "outputs": [
        {
          "output_type": "display_data",
          "data": {
            "text/plain": [
              "<IPython.core.display.HTML object>"
            ],
            "text/html": [
              "<span class=\"tex2jax_ignore\"><svg xmlns=\"http://www.w3.org/2000/svg\" xmlns:xlink=\"http://www.w3.org/1999/xlink\" xml:lang=\"en\" id=\"2d99ca081d3e4160b8e02d52d0a2d35a-0\" class=\"displacy\" width=\"1450\" height=\"487.0\" direction=\"ltr\" style=\"max-width: none; height: 487.0px; color: #000000; background: #ffffff; font-family: Arial; direction: ltr\">\n",
              "<text class=\"displacy-token\" fill=\"currentColor\" text-anchor=\"middle\" y=\"397.0\">\n",
              "    <tspan class=\"displacy-word\" fill=\"currentColor\" x=\"50\">I</tspan>\n",
              "    <tspan class=\"displacy-tag\" dy=\"2em\" fill=\"currentColor\" x=\"50\">PRON</tspan>\n",
              "</text>\n",
              "\n",
              "<text class=\"displacy-token\" fill=\"currentColor\" text-anchor=\"middle\" y=\"397.0\">\n",
              "    <tspan class=\"displacy-word\" fill=\"currentColor\" x=\"225\">will</tspan>\n",
              "    <tspan class=\"displacy-tag\" dy=\"2em\" fill=\"currentColor\" x=\"225\">AUX</tspan>\n",
              "</text>\n",
              "\n",
              "<text class=\"displacy-token\" fill=\"currentColor\" text-anchor=\"middle\" y=\"397.0\">\n",
              "    <tspan class=\"displacy-word\" fill=\"currentColor\" x=\"400\">wear</tspan>\n",
              "    <tspan class=\"displacy-tag\" dy=\"2em\" fill=\"currentColor\" x=\"400\">VERB</tspan>\n",
              "</text>\n",
              "\n",
              "<text class=\"displacy-token\" fill=\"currentColor\" text-anchor=\"middle\" y=\"397.0\">\n",
              "    <tspan class=\"displacy-word\" fill=\"currentColor\" x=\"575\">a</tspan>\n",
              "    <tspan class=\"displacy-tag\" dy=\"2em\" fill=\"currentColor\" x=\"575\">DET</tspan>\n",
              "</text>\n",
              "\n",
              "<text class=\"displacy-token\" fill=\"currentColor\" text-anchor=\"middle\" y=\"397.0\">\n",
              "    <tspan class=\"displacy-word\" fill=\"currentColor\" x=\"750\">white</tspan>\n",
              "    <tspan class=\"displacy-tag\" dy=\"2em\" fill=\"currentColor\" x=\"750\">ADJ</tspan>\n",
              "</text>\n",
              "\n",
              "<text class=\"displacy-token\" fill=\"currentColor\" text-anchor=\"middle\" y=\"397.0\">\n",
              "    <tspan class=\"displacy-word\" fill=\"currentColor\" x=\"925\">shirt</tspan>\n",
              "    <tspan class=\"displacy-tag\" dy=\"2em\" fill=\"currentColor\" x=\"925\">NOUN</tspan>\n",
              "</text>\n",
              "\n",
              "<text class=\"displacy-token\" fill=\"currentColor\" text-anchor=\"middle\" y=\"397.0\">\n",
              "    <tspan class=\"displacy-word\" fill=\"currentColor\" x=\"1100\">on</tspan>\n",
              "    <tspan class=\"displacy-tag\" dy=\"2em\" fill=\"currentColor\" x=\"1100\">ADP</tspan>\n",
              "</text>\n",
              "\n",
              "<text class=\"displacy-token\" fill=\"currentColor\" text-anchor=\"middle\" y=\"397.0\">\n",
              "    <tspan class=\"displacy-word\" fill=\"currentColor\" x=\"1275\">Monday</tspan>\n",
              "    <tspan class=\"displacy-tag\" dy=\"2em\" fill=\"currentColor\" x=\"1275\">PROPN</tspan>\n",
              "</text>\n",
              "\n",
              "<g class=\"displacy-arrow\">\n",
              "    <path class=\"displacy-arc\" id=\"arrow-2d99ca081d3e4160b8e02d52d0a2d35a-0-0\" stroke-width=\"2px\" d=\"M70,352.0 C70,177.0 390.0,177.0 390.0,352.0\" fill=\"none\" stroke=\"currentColor\"/>\n",
              "    <text dy=\"1.25em\" style=\"font-size: 0.8em; letter-spacing: 1px\">\n",
              "        <textPath xlink:href=\"#arrow-2d99ca081d3e4160b8e02d52d0a2d35a-0-0\" class=\"displacy-label\" startOffset=\"50%\" side=\"left\" fill=\"currentColor\" text-anchor=\"middle\">nsubj</textPath>\n",
              "    </text>\n",
              "    <path class=\"displacy-arrowhead\" d=\"M70,354.0 L62,342.0 78,342.0\" fill=\"currentColor\"/>\n",
              "</g>\n",
              "\n",
              "<g class=\"displacy-arrow\">\n",
              "    <path class=\"displacy-arc\" id=\"arrow-2d99ca081d3e4160b8e02d52d0a2d35a-0-1\" stroke-width=\"2px\" d=\"M245,352.0 C245,264.5 385.0,264.5 385.0,352.0\" fill=\"none\" stroke=\"currentColor\"/>\n",
              "    <text dy=\"1.25em\" style=\"font-size: 0.8em; letter-spacing: 1px\">\n",
              "        <textPath xlink:href=\"#arrow-2d99ca081d3e4160b8e02d52d0a2d35a-0-1\" class=\"displacy-label\" startOffset=\"50%\" side=\"left\" fill=\"currentColor\" text-anchor=\"middle\">aux</textPath>\n",
              "    </text>\n",
              "    <path class=\"displacy-arrowhead\" d=\"M245,354.0 L237,342.0 253,342.0\" fill=\"currentColor\"/>\n",
              "</g>\n",
              "\n",
              "<g class=\"displacy-arrow\">\n",
              "    <path class=\"displacy-arc\" id=\"arrow-2d99ca081d3e4160b8e02d52d0a2d35a-0-2\" stroke-width=\"2px\" d=\"M595,352.0 C595,177.0 915.0,177.0 915.0,352.0\" fill=\"none\" stroke=\"currentColor\"/>\n",
              "    <text dy=\"1.25em\" style=\"font-size: 0.8em; letter-spacing: 1px\">\n",
              "        <textPath xlink:href=\"#arrow-2d99ca081d3e4160b8e02d52d0a2d35a-0-2\" class=\"displacy-label\" startOffset=\"50%\" side=\"left\" fill=\"currentColor\" text-anchor=\"middle\">det</textPath>\n",
              "    </text>\n",
              "    <path class=\"displacy-arrowhead\" d=\"M595,354.0 L587,342.0 603,342.0\" fill=\"currentColor\"/>\n",
              "</g>\n",
              "\n",
              "<g class=\"displacy-arrow\">\n",
              "    <path class=\"displacy-arc\" id=\"arrow-2d99ca081d3e4160b8e02d52d0a2d35a-0-3\" stroke-width=\"2px\" d=\"M770,352.0 C770,264.5 910.0,264.5 910.0,352.0\" fill=\"none\" stroke=\"currentColor\"/>\n",
              "    <text dy=\"1.25em\" style=\"font-size: 0.8em; letter-spacing: 1px\">\n",
              "        <textPath xlink:href=\"#arrow-2d99ca081d3e4160b8e02d52d0a2d35a-0-3\" class=\"displacy-label\" startOffset=\"50%\" side=\"left\" fill=\"currentColor\" text-anchor=\"middle\">amod</textPath>\n",
              "    </text>\n",
              "    <path class=\"displacy-arrowhead\" d=\"M770,354.0 L762,342.0 778,342.0\" fill=\"currentColor\"/>\n",
              "</g>\n",
              "\n",
              "<g class=\"displacy-arrow\">\n",
              "    <path class=\"displacy-arc\" id=\"arrow-2d99ca081d3e4160b8e02d52d0a2d35a-0-4\" stroke-width=\"2px\" d=\"M420,352.0 C420,89.5 920.0,89.5 920.0,352.0\" fill=\"none\" stroke=\"currentColor\"/>\n",
              "    <text dy=\"1.25em\" style=\"font-size: 0.8em; letter-spacing: 1px\">\n",
              "        <textPath xlink:href=\"#arrow-2d99ca081d3e4160b8e02d52d0a2d35a-0-4\" class=\"displacy-label\" startOffset=\"50%\" side=\"left\" fill=\"currentColor\" text-anchor=\"middle\">dobj</textPath>\n",
              "    </text>\n",
              "    <path class=\"displacy-arrowhead\" d=\"M920.0,354.0 L928.0,342.0 912.0,342.0\" fill=\"currentColor\"/>\n",
              "</g>\n",
              "\n",
              "<g class=\"displacy-arrow\">\n",
              "    <path class=\"displacy-arc\" id=\"arrow-2d99ca081d3e4160b8e02d52d0a2d35a-0-5\" stroke-width=\"2px\" d=\"M420,352.0 C420,2.0 1100.0,2.0 1100.0,352.0\" fill=\"none\" stroke=\"currentColor\"/>\n",
              "    <text dy=\"1.25em\" style=\"font-size: 0.8em; letter-spacing: 1px\">\n",
              "        <textPath xlink:href=\"#arrow-2d99ca081d3e4160b8e02d52d0a2d35a-0-5\" class=\"displacy-label\" startOffset=\"50%\" side=\"left\" fill=\"currentColor\" text-anchor=\"middle\">prep</textPath>\n",
              "    </text>\n",
              "    <path class=\"displacy-arrowhead\" d=\"M1100.0,354.0 L1108.0,342.0 1092.0,342.0\" fill=\"currentColor\"/>\n",
              "</g>\n",
              "\n",
              "<g class=\"displacy-arrow\">\n",
              "    <path class=\"displacy-arc\" id=\"arrow-2d99ca081d3e4160b8e02d52d0a2d35a-0-6\" stroke-width=\"2px\" d=\"M1120,352.0 C1120,264.5 1260.0,264.5 1260.0,352.0\" fill=\"none\" stroke=\"currentColor\"/>\n",
              "    <text dy=\"1.25em\" style=\"font-size: 0.8em; letter-spacing: 1px\">\n",
              "        <textPath xlink:href=\"#arrow-2d99ca081d3e4160b8e02d52d0a2d35a-0-6\" class=\"displacy-label\" startOffset=\"50%\" side=\"left\" fill=\"currentColor\" text-anchor=\"middle\">pobj</textPath>\n",
              "    </text>\n",
              "    <path class=\"displacy-arrowhead\" d=\"M1260.0,354.0 L1268.0,342.0 1252.0,342.0\" fill=\"currentColor\"/>\n",
              "</g>\n",
              "</svg></span>"
            ]
          },
          "metadata": {}
        }
      ]
    },
    {
      "cell_type": "code",
      "source": [
        "#getting head word\n",
        "for token in doc:\n",
        "  print(token.text,'->',token.head.text)"
      ],
      "metadata": {
        "colab": {
          "base_uri": "https://localhost:8080/"
        },
        "id": "9cGaB-o29QBw",
        "outputId": "273a39cd-5cf6-49f6-d1d1-36009725e30f"
      },
      "execution_count": 6,
      "outputs": [
        {
          "output_type": "stream",
          "name": "stdout",
          "text": [
            "I -> wear\n",
            "will -> wear\n",
            "wear -> wear\n",
            "a -> shirt\n",
            "white -> shirt\n",
            "shirt -> wear\n",
            "on -> wear\n",
            "Monday -> on\n"
          ]
        }
      ]
    },
    {
      "cell_type": "code",
      "source": [
        "#getting immediate children\n",
        "for token in doc:\n",
        "  print(token.text,'->',token.children)"
      ],
      "metadata": {
        "colab": {
          "base_uri": "https://localhost:8080/"
        },
        "id": "m_m6juPy9tbt",
        "outputId": "1623dae2-e966-4349-8434-833e4b1e8608"
      },
      "execution_count": 10,
      "outputs": [
        {
          "output_type": "stream",
          "name": "stdout",
          "text": [
            "I -> <generator object at 0x79ddb755fc40>\n",
            "will -> <generator object at 0x79ddb755fc40>\n",
            "wear -> <generator object at 0x79ddb755fc40>\n",
            "a -> <generator object at 0x79ddb755fc40>\n",
            "white -> <generator object at 0x79ddb755fc40>\n",
            "shirt -> <generator object at 0x79ddb755fc40>\n",
            "on -> <generator object at 0x79ddb755fc40>\n",
            "Monday -> <generator object at 0x79ddb755fc40>\n"
          ]
        }
      ]
    },
    {
      "cell_type": "code",
      "source": [
        "#Getting immediate children\n",
        "for token in doc:\n",
        "  print(token.text,'->',[child.text for child in token.children])"
      ],
      "metadata": {
        "colab": {
          "base_uri": "https://localhost:8080/"
        },
        "id": "Fd_Yt2oF9uId",
        "outputId": "d0b9f362-79c1-4c3f-e00b-df1102ad6707"
      },
      "execution_count": 11,
      "outputs": [
        {
          "output_type": "stream",
          "name": "stdout",
          "text": [
            "I -> []\n",
            "will -> []\n",
            "wear -> ['I', 'will', 'shirt', 'on']\n",
            "a -> []\n",
            "white -> []\n",
            "shirt -> ['a', 'white']\n",
            "on -> ['Monday']\n",
            "Monday -> []\n"
          ]
        }
      ]
    },
    {
      "cell_type": "code",
      "source": [
        "#getting left and right children\n",
        "for token in doc:\n",
        "  print(token.text,'->',token.lefts,'<->',token.rights)"
      ],
      "metadata": {
        "colab": {
          "base_uri": "https://localhost:8080/"
        },
        "id": "e8UHc0J_9uyl",
        "outputId": "69ee0ca0-1f50-4179-fd86-32c427819bea"
      },
      "execution_count": 13,
      "outputs": [
        {
          "output_type": "stream",
          "name": "stdout",
          "text": [
            "I -> <generator object at 0x79ddaa919b20> <-> <generator object at 0x79ddaa919d00>\n",
            "will -> <generator object at 0x79ddaa919b20> <-> <generator object at 0x79ddaa919d00>\n",
            "wear -> <generator object at 0x79ddaa919b20> <-> <generator object at 0x79ddaa919d00>\n",
            "a -> <generator object at 0x79ddaa919b20> <-> <generator object at 0x79ddaa919d00>\n",
            "white -> <generator object at 0x79ddaa919b20> <-> <generator object at 0x79ddaa919d00>\n",
            "shirt -> <generator object at 0x79ddaa919b20> <-> <generator object at 0x79ddaa919d00>\n",
            "on -> <generator object at 0x79ddaa919b20> <-> <generator object at 0x79ddaa919d00>\n",
            "Monday -> <generator object at 0x79ddaa919b20> <-> <generator object at 0x79ddaa919d00>\n"
          ]
        }
      ]
    },
    {
      "cell_type": "code",
      "source": [
        "#getting left children\n",
        "for token in doc:\n",
        "  print(token.text,'->',token.n_lefts,'->',[left for left in token.lefts])"
      ],
      "metadata": {
        "colab": {
          "base_uri": "https://localhost:8080/"
        },
        "id": "72L5BAus9uuV",
        "outputId": "3a86e1fe-7f5e-46bf-fb97-dfad28e6f56a"
      },
      "execution_count": 14,
      "outputs": [
        {
          "output_type": "stream",
          "name": "stdout",
          "text": [
            "I -> 0 -> []\n",
            "will -> 0 -> []\n",
            "wear -> 2 -> [I, will]\n",
            "a -> 0 -> []\n",
            "white -> 0 -> []\n",
            "shirt -> 2 -> [a, white]\n",
            "on -> 0 -> []\n",
            "Monday -> 0 -> []\n"
          ]
        }
      ]
    },
    {
      "cell_type": "code",
      "source": [
        "#getting right children\n",
        "for token in doc:\n",
        "  print(token.text,'->',token.n_rights,'->',[right for right in token.rights])"
      ],
      "metadata": {
        "colab": {
          "base_uri": "https://localhost:8080/"
        },
        "id": "G8_pgUpV9uq1",
        "outputId": "8daaf19e-c44f-4265-d5b7-1e43d5348ed5"
      },
      "execution_count": 15,
      "outputs": [
        {
          "output_type": "stream",
          "name": "stdout",
          "text": [
            "I -> 0 -> []\n",
            "will -> 0 -> []\n",
            "wear -> 2 -> [shirt, on]\n",
            "a -> 0 -> []\n",
            "white -> 0 -> []\n",
            "shirt -> 0 -> []\n",
            "on -> 1 -> [Monday]\n",
            "Monday -> 0 -> []\n"
          ]
        }
      ]
    },
    {
      "cell_type": "code",
      "source": [],
      "metadata": {
        "id": "0WVKqmr09ujN"
      },
      "execution_count": null,
      "outputs": []
    },
    {
      "cell_type": "code",
      "source": [],
      "metadata": {
        "id": "YXxv-G8a9t52"
      },
      "execution_count": null,
      "outputs": []
    }
  ]
}
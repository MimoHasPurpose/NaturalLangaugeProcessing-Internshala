{
  "nbformat": 4,
  "nbformat_minor": 0,
  "metadata": {
    "colab": {
      "provenance": []
    },
    "kernelspec": {
      "name": "python3",
      "display_name": "Python 3"
    },
    "language_info": {
      "name": "python"
    }
  },
  "cells": [
    {
      "cell_type": "markdown",
      "source": [],
      "metadata": {
        "id": "uyq2RjB-qD8Y"
      }
    },
    {
      "cell_type": "code",
      "execution_count": 2,
      "metadata": {
        "id": "KOCLVfLFrY3A"
      },
      "outputs": [],
      "source": [
        "# Normalization\n",
        "# Morpheme: base form of a word\n",
        "# Structure of token: <prefix><morpheme><suffix>\n",
        "# Anti+national+ist\n",
        "# Normalization: Process of converting a token into its base form(morpheme)\n",
        "# Helpful in reducing data dimensionality, text cleaning\n",
        "# types: Stemming and Lemmatization\n",
        "\n"
      ]
    },
    {
      "cell_type": "code",
      "source": [
        "#defining the string\n",
        "text=\"The sky is clear and the stars are twinkling.\"\n",
        "import spacy"
      ],
      "metadata": {
        "id": "Tz8sUYLGtqHX"
      },
      "execution_count": 3,
      "outputs": []
    },
    {
      "cell_type": "code",
      "source": [
        "#Loading spacy model\n",
        "nlp=spacy.load(\"en_core_web_sm\")"
      ],
      "metadata": {
        "id": "-VfqaEBst016"
      },
      "execution_count": 4,
      "outputs": []
    },
    {
      "cell_type": "code",
      "source": [
        "doc=nlp(text)"
      ],
      "metadata": {
        "id": "qLxRRQU7t4nW"
      },
      "execution_count": 5,
      "outputs": []
    },
    {
      "cell_type": "code",
      "source": [
        "#lemmatizing the text\n",
        "[(token.text,token.lemma_)for token in doc]"
      ],
      "metadata": {
        "colab": {
          "base_uri": "https://localhost:8080/"
        },
        "id": "YQafDkEFt6Jo",
        "outputId": "4a41e3ce-619b-4a79-e4ba-b66430cef8a3"
      },
      "execution_count": 7,
      "outputs": [
        {
          "output_type": "execute_result",
          "data": {
            "text/plain": [
              "[('The', 'the'),\n",
              " ('moon', 'moon'),\n",
              " ('looks', 'look'),\n",
              " ('beautiful', 'beautiful'),\n",
              " ('at', 'at'),\n",
              " ('night', 'night'),\n",
              " ('.', '.'),\n",
              " ('It', 'it'),\n",
              " (\"'s\", 'be'),\n",
              " ('hard', 'hard'),\n",
              " ('to', 'to'),\n",
              " ('resist', 'resist'),\n",
              " ('its', 'its'),\n",
              " ('beauty', 'beauty'),\n",
              " ('.', '.')]"
            ]
          },
          "metadata": {},
          "execution_count": 7
        }
      ]
    },
    {
      "cell_type": "code",
      "source": [],
      "metadata": {
        "id": "0P04V0fhud1A"
      },
      "execution_count": null,
      "outputs": []
    },
    {
      "cell_type": "code",
      "source": [
        "text=\"The moon looks beautiful at night. It's hard to resist its beauty.\"\n",
        "doc=nlp(text)\n",
        "[(token.text,token.lemma_)for token in doc]"
      ],
      "metadata": {
        "colab": {
          "base_uri": "https://localhost:8080/"
        },
        "id": "dsZpssJruC1h",
        "outputId": "b1cb5c2b-dd3e-47c8-de86-0a4a1ad63d56"
      },
      "execution_count": 6,
      "outputs": [
        {
          "output_type": "execute_result",
          "data": {
            "text/plain": [
              "[('The', 'the'),\n",
              " ('moon', 'moon'),\n",
              " ('looks', 'look'),\n",
              " ('beautiful', 'beautiful'),\n",
              " ('at', 'at'),\n",
              " ('night', 'night'),\n",
              " ('.', '.'),\n",
              " ('It', 'it'),\n",
              " (\"'s\", 'be'),\n",
              " ('hard', 'hard'),\n",
              " ('to', 'to'),\n",
              " ('resist', 'resist'),\n",
              " ('its', 'its'),\n",
              " ('beauty', 'beauty'),\n",
              " ('.', '.')]"
            ]
          },
          "metadata": {},
          "execution_count": 6
        }
      ]
    }
  ]
}
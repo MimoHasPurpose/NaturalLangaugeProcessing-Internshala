{
  "nbformat": 4,
  "nbformat_minor": 0,
  "metadata": {
    "colab": {
      "provenance": []
    },
    "kernelspec": {
      "name": "python3",
      "display_name": "Python 3"
    },
    "language_info": {
      "name": "python"
    }
  },
  "cells": [
    {
      "cell_type": "code",
      "execution_count": 5,
      "metadata": {
        "colab": {
          "base_uri": "https://localhost:8080/"
        },
        "id": "vq3iztF3NfUG",
        "outputId": "f9796593-24ac-44bc-f216-d40eb564a24e"
      },
      "outputs": [
        {
          "output_type": "stream",
          "name": "stdout",
          "text": [
            "0.5\n",
            "3.0\n"
          ]
        }
      ],
      "source": [
        "from scipy.spatial import distance\n",
        "s_1='Tekken'\n",
        "s_2='Tested'\n",
        "d=distance.hamming(list(s_1),list(s_2))\n",
        "print(distance.hamming(list(s_1),list(s_2)))\n",
        "print(d*len(s_1))"
      ]
    },
    {
      "cell_type": "code",
      "source": [],
      "metadata": {
        "id": "RXSCeCE8OCoi"
      },
      "execution_count": null,
      "outputs": []
    }
  ]
}
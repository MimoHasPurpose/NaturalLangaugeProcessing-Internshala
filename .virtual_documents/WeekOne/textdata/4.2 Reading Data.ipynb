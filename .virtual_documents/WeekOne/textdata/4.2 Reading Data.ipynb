





import pandas as pd


# Reading data from a CSV file using read_csv()
reviews=pd.read_csv('reviews.csv')


# Printing shape of dataframe
print('Shape=>',reviews.shape)


# Printing first five rows
reviews.head()





# Reading text file in read mode as a file object using open()
file=open('data.txt',mode='r',encoding='utf-8')


# Getting text data as string from file object using read()
text=file.read()


# Closing the file using close()
file.close()


print(text)





import os


!unzip dataset.zip


# Getting list of all files in the folder
file_names=os.listdir(path='dataset/')


len(file_names)


file_names[:5]


files=[]

# Filling the list with text data from all the files
for file_name in file_names:
    file=open('dataset/'+file_name,mode='r',encoding='utf-8')
    text=file.read()
    file.close()
    
    # Appending data to the list
    files.append(text)





# Creating dataframe from the list
df=pd.DataFrame(files,columns=['text'])


# Printing shape of dataframe
print('Shape=>',df.shape)


# Printing first five rows
df.head()


df.to_csv('dataframe.csv',index=False)





!unzip sentiment_labelled_sentences.zip





# Getting list of all files in the folder
files=os.listdir('sentiment labelled sentences/')

files


lines=[]

# Reading all the lines from the txt files
for i in files:
    temp_file=open('sentiment labelled sentences/'+i,mode='r',encoding='utf-8')
    temp=temp_file.readlines()
    lines.extend(temp)


len(lines)


# Lines from the text files
lines[:10]


# Label
lines[0][-2]


# Sentence
lines[0][:-3]


# Extracting sentences and labels from lines
sentences=[]
labels=[]

for i in lines:
    sentences.append(i[:-3])
    labels.append(int(i[-2]))


# First 10 sentences
sentences[:10]


# First 10 labels
labels[:10]


# Creating a dataframe
df=pd.DataFrame({
    'reviews':sentences,
    'label':labels
})


# Printing shape of dataframe
print('Shape=>',df.shape)


df.head()





# Getting list of all files in the folder
files=os.listdir('sentiment labelled sentences/')

files


# Creating an Empty dataframe
df=pd.DataFrame(columns=['reviews','label'])


# Iterating through all the files
for i in files:
    # Creating a temporary dataframe
    temp=pd.read_csv('sentiment labelled sentences/'+i,sep='\t',names=['reviews','label'],quoting=3)
    
    # Concatinating temporary dataframe with df
    df=pd.concat([df,temp],axis=0,ignore_index=True)


# Printing shape of dataframe
print('Shape=>',df.shape)


df.head()




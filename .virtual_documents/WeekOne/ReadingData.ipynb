import pandas as pd


#Reading data from a csv file using read_csv()
reviews=pd.read_csv('textdata/reviews.csv')


reviews['user_review']


#Printing shape of dataframe
print('Shape=>',reviews.shape)


#printing first 5 
reviews.head()


# Reading text file in read mode as a file object using open()
file=open('textdata/data.txt',mode='r',encoding='utf-8')


text=file.read()


file.close()


print(text)


import os 
import pandas as pd



files_names=os.listdir(path='../WeekOne/')


files_names


len(files_names)


files_names[:5]




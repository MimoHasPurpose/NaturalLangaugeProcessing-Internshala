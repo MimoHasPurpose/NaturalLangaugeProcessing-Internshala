#definint string
text="I'm working as a data scientist in the U.S. and earning $140,000"



#whitespace Tokenizer
print(text.split())



import spacy


#loading model
nlp=spacy.load('en_core_web_sm')





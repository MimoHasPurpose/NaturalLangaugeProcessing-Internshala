{
  "nbformat": 4,
  "nbformat_minor": 0,
  "metadata": {
    "colab": {
      "provenance": []
    },
    "kernelspec": {
      "name": "python3",
      "display_name": "Python 3"
    },
    "language_info": {
      "name": "python"
    }
  },
  "cells": [
    {
      "cell_type": "code",
      "execution_count": 1,
      "metadata": {
        "id": "jA8uA49vfox1"
      },
      "outputs": [],
      "source": [
        "import spacy"
      ]
    },
    {
      "cell_type": "code",
      "source": [
        "#defining the text\n",
        "text=\"with great power comes great responsibility\""
      ],
      "metadata": {
        "id": "EKYLQic-lpTy"
      },
      "execution_count": 2,
      "outputs": []
    },
    {
      "cell_type": "code",
      "source": [
        "nlp=spacy.load('en_core_web_sm')"
      ],
      "metadata": {
        "id": "N8xP_nt2lyvw"
      },
      "execution_count": 3,
      "outputs": []
    },
    {
      "cell_type": "code",
      "source": [
        "doc=nlp(text)"
      ],
      "metadata": {
        "id": "gcY-knK-l3lr"
      },
      "execution_count": 4,
      "outputs": []
    },
    {
      "cell_type": "code",
      "source": [
        "#getting POS tags\n",
        "for token in doc:\n",
        "    print(token.text,'->',token.pos_,'->',token.tag_)"
      ],
      "metadata": {
        "colab": {
          "base_uri": "https://localhost:8080/"
        },
        "id": "nsdUcVpdly79",
        "outputId": "dfc297f8-7c9e-44a9-8832-bc1cb321b101"
      },
      "execution_count": 6,
      "outputs": [
        {
          "output_type": "stream",
          "name": "stdout",
          "text": [
            "with -> ADP -> IN\n",
            "great -> ADJ -> JJ\n",
            "power -> NOUN -> NN\n",
            "comes -> VERB -> VBZ\n",
            "great -> ADJ -> JJ\n",
            "responsibility -> NOUN -> NN\n"
          ]
        }
      ]
    },
    {
      "cell_type": "code",
      "source": [
        "#defining the string\n",
        "text=\"The teacher reads a book to her students then asks them questions about the story.\"\n",
        "doc=nlp(text)"
      ],
      "metadata": {
        "id": "i4VAQ0Z0lzCJ"
      },
      "execution_count": 8,
      "outputs": []
    },
    {
      "cell_type": "markdown",
      "source": [],
      "metadata": {
        "id": "0raKA8Z5mvS9"
      }
    },
    {
      "cell_type": "code",
      "source": [
        "for token in doc:\n",
        "  print(token.text,'->',token.pos_,'->',token.tag_)"
      ],
      "metadata": {
        "colab": {
          "base_uri": "https://localhost:8080/"
        },
        "id": "tVG0xKoLlzIi",
        "outputId": "098c0129-5742-4c5a-f255-771117a9224a"
      },
      "execution_count": 9,
      "outputs": [
        {
          "output_type": "stream",
          "name": "stdout",
          "text": [
            "The -> DET -> DT\n",
            "teacher -> NOUN -> NN\n",
            "reads -> VERB -> VBZ\n",
            "a -> DET -> DT\n",
            "book -> NOUN -> NN\n",
            "to -> ADP -> IN\n",
            "her -> PRON -> PRP$\n",
            "students -> NOUN -> NNS\n",
            "then -> ADV -> RB\n",
            "asks -> VERB -> VBZ\n",
            "them -> PRON -> PRP\n",
            "questions -> NOUN -> NNS\n",
            "about -> ADP -> IN\n",
            "the -> DET -> DT\n",
            "story -> NOUN -> NN\n",
            ". -> PUNCT -> .\n"
          ]
        }
      ]
    },
    {
      "cell_type": "code",
      "source": [
        "#Extracting verbs\n",
        "[token.text for token in doc if(token.pos_=='VERB')]"
      ],
      "metadata": {
        "colab": {
          "base_uri": "https://localhost:8080/"
        },
        "id": "Bc46NRaPlzO2",
        "outputId": "05b84998-2366-4fb4-d6fd-0b6bf36a73de"
      },
      "execution_count": 10,
      "outputs": [
        {
          "output_type": "execute_result",
          "data": {
            "text/plain": [
              "['reads', 'asks']"
            ]
          },
          "metadata": {},
          "execution_count": 10
        }
      ]
    },
    {
      "cell_type": "code",
      "source": [
        "#nouns\n",
        "[token.text for token in doc if(token.pos_=='NOUN')]"
      ],
      "metadata": {
        "colab": {
          "base_uri": "https://localhost:8080/"
        },
        "id": "Si7KwbkrlzVK",
        "outputId": "f823177b-7712-424b-d5a3-546335c9f2cd"
      },
      "execution_count": 11,
      "outputs": [
        {
          "output_type": "execute_result",
          "data": {
            "text/plain": [
              "['teacher', 'book', 'students', 'questions', 'story']"
            ]
          },
          "metadata": {},
          "execution_count": 11
        }
      ]
    },
    {
      "cell_type": "code",
      "source": [],
      "metadata": {
        "id": "dQyOcVKqlzbJ"
      },
      "execution_count": null,
      "outputs": []
    }
  ]
}
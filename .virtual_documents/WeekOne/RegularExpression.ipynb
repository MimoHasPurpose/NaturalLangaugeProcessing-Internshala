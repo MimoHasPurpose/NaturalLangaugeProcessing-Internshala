


import re



string="Tiger is the national animal of india, Tiger lives in forest"
pattern="Tiger"
result=re.match(pattern,string)


result


print(result)


result=result.group()


result




string2="The national animal of India is tiger"
pattern="tiger"
#checking for match
result=re.match(string2,pattern)


result




##String: search()
string="The national animal of india is Tiger. Tiger lives in forest."

pattern2="Tiger"

result2=re.search(pattern2,string)




print(result2)


result2=re.search(pattern2,string).group()



result2


#Find all
result3=re.findall(pattern2,string)


result3


text="India get freedom on 15-08-1947, and it is celebrated as Independence day.\
    Indian constitution came into effect on 26-01-1950, and celebrated as republic day"
#defining the pattern
date_pattern=r'\d{2}-\d{2}-\d{4}'




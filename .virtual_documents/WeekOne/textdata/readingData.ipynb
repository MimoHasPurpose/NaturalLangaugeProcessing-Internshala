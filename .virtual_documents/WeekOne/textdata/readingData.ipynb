import os


import pandas as pd


!unzip dataset.zip


#getting list of all files in folder
file_names=os.listdir(path='dataset/')


len(file_names)


file_names[:5]


files=[]

#Filling the list with text data from all the files
for file_name in file_names:
    file=open('dataset'+'/'+file_name,'r',encoding='utf-8')
    text=file.read()
    file.close()
    #Appending data to the list
    files.append(text)



#Creating dataframe from the list
df=pd.DataFrame(files,columns=['text'])


#Printing shape of dataframe
print(df.shape)


df.head()


df.to_csv('data/dataset.csv',index=False)


files=os.listdir('data')


files


lines=[]
#reading all lines from the text file
count=3
for i in files[0:2]:
  temp_file=open('data/'+i,mode='r',encoding='utf-8')
  temp=temp_file.readlines()
  lines.extend(temp)


len(lines)


lines


len(lines)


#Lines from the text files

lines[:10]


# label
lines[0][-2]


# Sentence
lines[0][:-3]


#Extracting sentences and labels from lines


sentences=[]
labels=[]
for i in lines:
  sentences.append(i[:-3])
  labels.append(int(i[-2]))



#First 10 sentences
sentences[:10]


# First 10 labels
labels[:10]


#Creating a dataframe
df=pd.DataFrame({
    'reviews':sentences,
    'label':labels
})
df.head()


df.head()


#Exercise 2
#getting list of all files in the folder
files


#creating an empty dataframe
df=pd.DataFrame(columns=['reviews','label'])


#iterating through all the files

for i in files[0:2]:
  #creating a temporary dataframe
  temp=pd.read_csv('data/'+i,sep='\t',names=['reviews','label'],quoting=3)
  #Concatinating temporary dataframe with df
  df=pd.concat([df,temp],axis=0,ignore_index=True)



#printing shape
df.shape


df.head()



